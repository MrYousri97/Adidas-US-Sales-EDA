{
  "cells": [
    {
      "cell_type": "markdown",
      "metadata": {
        "id": "view-in-github",
        "colab_type": "text"
      },
      "source": [
        "<a href=\"https://colab.research.google.com/github/MrYousri97/Adidas-US-Sales-EDA/blob/main/Adidas_US_Sales.ipynb\" target=\"_parent\"><img src=\"https://colab.research.google.com/assets/colab-badge.svg\" alt=\"Open In Colab\"/></a>"
      ]
    },
    {
      "cell_type": "markdown",
      "metadata": {
        "id": "GCEgDndSCzbl"
      },
      "source": [
        "Import Libraries"
      ]
    },
    {
      "cell_type": "code",
      "execution_count": null,
      "metadata": {
        "id": "YCSX4OOsflpr"
      },
      "outputs": [],
      "source": [
        "import pandas as pd\n",
        "import matplotlib.pyplot as plt\n",
        "import numpy as np\n",
        "import seaborn as sns\n"
      ]
    },
    {
      "cell_type": "markdown",
      "metadata": {
        "id": "69kvHvoPl3tN"
      },
      "source": [
        "## Reading data "
      ]
    },
    {
      "cell_type": "code",
      "execution_count": null,
      "metadata": {
        "id": "XaB-BFEwiY1W"
      },
      "outputs": [],
      "source": [
        "url='https://drive.google.com/file/d/1TVXb6RyY2nlS5o4oJ95M2Dz46p1jaX2I/view?usp=share_link'\n",
        "url='https://drive.google.com/uc?id=' + url.split('/')[-2]\n",
        "data = pd.read_csv(url)"
      ]
    },
    {
      "cell_type": "code",
      "execution_count": null,
      "metadata": {
        "colab": {
          "base_uri": "https://localhost:8080/",
          "height": 468
        },
        "id": "i7G3HujIDCFi",
        "outputId": "e51d3a98-65c0-4aac-cc55-659231ed6944"
      },
      "outputs": [
        {
          "output_type": "execute_result",
          "data": {
            "text/plain": [
              "         Retailer  Retailer ID Invoice Date     Region          State  \\\n",
              "0     Foot Locker      1185732     1/1/2020  Northeast       New York   \n",
              "1     Foot Locker      1185732     1/2/2020  Northeast       New York   \n",
              "2     Foot Locker      1185732     1/3/2020  Northeast       New York   \n",
              "3     Foot Locker      1185732     1/4/2020  Northeast       New York   \n",
              "4     Foot Locker      1185732     1/5/2020  Northeast       New York   \n",
              "...           ...          ...          ...        ...            ...   \n",
              "9643  Foot Locker      1185732    1/24/2021  Northeast  New Hampshire   \n",
              "9644  Foot Locker      1185732    1/24/2021  Northeast  New Hampshire   \n",
              "9645  Foot Locker      1185732    2/22/2021  Northeast  New Hampshire   \n",
              "9646  Foot Locker      1185732    2/22/2021  Northeast  New Hampshire   \n",
              "9647  Foot Locker      1185732    2/22/2021  Northeast  New Hampshire   \n",
              "\n",
              "            City                    Product Price per Unit Units Sold  \\\n",
              "0       New York      Men's Street Footwear        $50.00       1,200   \n",
              "1       New York    Men's Athletic Footwear        $50.00       1,000   \n",
              "2       New York    Women's Street Footwear        $40.00       1,000   \n",
              "3       New York  Women's Athletic Footwear        $45.00         850   \n",
              "4       New York              Men's Apparel        $60.00         900   \n",
              "...          ...                        ...            ...        ...   \n",
              "9643  Manchester              Men's Apparel        $50.00          64   \n",
              "9644  Manchester            Women's Apparel        $41.00         105   \n",
              "9645  Manchester      Men's Street Footwear        $41.00         184   \n",
              "9646  Manchester    Men's Athletic Footwear        $42.00          70   \n",
              "9647  Manchester    Women's Street Footwear        $29.00          83   \n",
              "\n",
              "     Total Sales Operating Profit Sales Method  \n",
              "0         60,000         $30,000      In-store  \n",
              "1         50,000         $15,000      In-store  \n",
              "2         40,000         $14,000      In-store  \n",
              "3         38,250         $13,388      In-store  \n",
              "4         54,000         $16,200      In-store  \n",
              "...          ...              ...          ...  \n",
              "9643         320             $90        Outlet  \n",
              "9644         431            $138        Outlet  \n",
              "9645         754            $279        Outlet  \n",
              "9646         294            $123        Outlet  \n",
              "9647         241             $65        Outlet  \n",
              "\n",
              "[9648 rows x 12 columns]"
            ],
            "text/html": [
              "\n",
              "  <div id=\"df-5b842b3b-32c0-494a-876f-d60448c7b62e\">\n",
              "    <div class=\"colab-df-container\">\n",
              "      <div>\n",
              "<style scoped>\n",
              "    .dataframe tbody tr th:only-of-type {\n",
              "        vertical-align: middle;\n",
              "    }\n",
              "\n",
              "    .dataframe tbody tr th {\n",
              "        vertical-align: top;\n",
              "    }\n",
              "\n",
              "    .dataframe thead th {\n",
              "        text-align: right;\n",
              "    }\n",
              "</style>\n",
              "<table border=\"1\" class=\"dataframe\">\n",
              "  <thead>\n",
              "    <tr style=\"text-align: right;\">\n",
              "      <th></th>\n",
              "      <th>Retailer</th>\n",
              "      <th>Retailer ID</th>\n",
              "      <th>Invoice Date</th>\n",
              "      <th>Region</th>\n",
              "      <th>State</th>\n",
              "      <th>City</th>\n",
              "      <th>Product</th>\n",
              "      <th>Price per Unit</th>\n",
              "      <th>Units Sold</th>\n",
              "      <th>Total Sales</th>\n",
              "      <th>Operating Profit</th>\n",
              "      <th>Sales Method</th>\n",
              "    </tr>\n",
              "  </thead>\n",
              "  <tbody>\n",
              "    <tr>\n",
              "      <th>0</th>\n",
              "      <td>Foot Locker</td>\n",
              "      <td>1185732</td>\n",
              "      <td>1/1/2020</td>\n",
              "      <td>Northeast</td>\n",
              "      <td>New York</td>\n",
              "      <td>New York</td>\n",
              "      <td>Men's Street Footwear</td>\n",
              "      <td>$50.00</td>\n",
              "      <td>1,200</td>\n",
              "      <td>60,000</td>\n",
              "      <td>$30,000</td>\n",
              "      <td>In-store</td>\n",
              "    </tr>\n",
              "    <tr>\n",
              "      <th>1</th>\n",
              "      <td>Foot Locker</td>\n",
              "      <td>1185732</td>\n",
              "      <td>1/2/2020</td>\n",
              "      <td>Northeast</td>\n",
              "      <td>New York</td>\n",
              "      <td>New York</td>\n",
              "      <td>Men's Athletic Footwear</td>\n",
              "      <td>$50.00</td>\n",
              "      <td>1,000</td>\n",
              "      <td>50,000</td>\n",
              "      <td>$15,000</td>\n",
              "      <td>In-store</td>\n",
              "    </tr>\n",
              "    <tr>\n",
              "      <th>2</th>\n",
              "      <td>Foot Locker</td>\n",
              "      <td>1185732</td>\n",
              "      <td>1/3/2020</td>\n",
              "      <td>Northeast</td>\n",
              "      <td>New York</td>\n",
              "      <td>New York</td>\n",
              "      <td>Women's Street Footwear</td>\n",
              "      <td>$40.00</td>\n",
              "      <td>1,000</td>\n",
              "      <td>40,000</td>\n",
              "      <td>$14,000</td>\n",
              "      <td>In-store</td>\n",
              "    </tr>\n",
              "    <tr>\n",
              "      <th>3</th>\n",
              "      <td>Foot Locker</td>\n",
              "      <td>1185732</td>\n",
              "      <td>1/4/2020</td>\n",
              "      <td>Northeast</td>\n",
              "      <td>New York</td>\n",
              "      <td>New York</td>\n",
              "      <td>Women's Athletic Footwear</td>\n",
              "      <td>$45.00</td>\n",
              "      <td>850</td>\n",
              "      <td>38,250</td>\n",
              "      <td>$13,388</td>\n",
              "      <td>In-store</td>\n",
              "    </tr>\n",
              "    <tr>\n",
              "      <th>4</th>\n",
              "      <td>Foot Locker</td>\n",
              "      <td>1185732</td>\n",
              "      <td>1/5/2020</td>\n",
              "      <td>Northeast</td>\n",
              "      <td>New York</td>\n",
              "      <td>New York</td>\n",
              "      <td>Men's Apparel</td>\n",
              "      <td>$60.00</td>\n",
              "      <td>900</td>\n",
              "      <td>54,000</td>\n",
              "      <td>$16,200</td>\n",
              "      <td>In-store</td>\n",
              "    </tr>\n",
              "    <tr>\n",
              "      <th>...</th>\n",
              "      <td>...</td>\n",
              "      <td>...</td>\n",
              "      <td>...</td>\n",
              "      <td>...</td>\n",
              "      <td>...</td>\n",
              "      <td>...</td>\n",
              "      <td>...</td>\n",
              "      <td>...</td>\n",
              "      <td>...</td>\n",
              "      <td>...</td>\n",
              "      <td>...</td>\n",
              "      <td>...</td>\n",
              "    </tr>\n",
              "    <tr>\n",
              "      <th>9643</th>\n",
              "      <td>Foot Locker</td>\n",
              "      <td>1185732</td>\n",
              "      <td>1/24/2021</td>\n",
              "      <td>Northeast</td>\n",
              "      <td>New Hampshire</td>\n",
              "      <td>Manchester</td>\n",
              "      <td>Men's Apparel</td>\n",
              "      <td>$50.00</td>\n",
              "      <td>64</td>\n",
              "      <td>320</td>\n",
              "      <td>$90</td>\n",
              "      <td>Outlet</td>\n",
              "    </tr>\n",
              "    <tr>\n",
              "      <th>9644</th>\n",
              "      <td>Foot Locker</td>\n",
              "      <td>1185732</td>\n",
              "      <td>1/24/2021</td>\n",
              "      <td>Northeast</td>\n",
              "      <td>New Hampshire</td>\n",
              "      <td>Manchester</td>\n",
              "      <td>Women's Apparel</td>\n",
              "      <td>$41.00</td>\n",
              "      <td>105</td>\n",
              "      <td>431</td>\n",
              "      <td>$138</td>\n",
              "      <td>Outlet</td>\n",
              "    </tr>\n",
              "    <tr>\n",
              "      <th>9645</th>\n",
              "      <td>Foot Locker</td>\n",
              "      <td>1185732</td>\n",
              "      <td>2/22/2021</td>\n",
              "      <td>Northeast</td>\n",
              "      <td>New Hampshire</td>\n",
              "      <td>Manchester</td>\n",
              "      <td>Men's Street Footwear</td>\n",
              "      <td>$41.00</td>\n",
              "      <td>184</td>\n",
              "      <td>754</td>\n",
              "      <td>$279</td>\n",
              "      <td>Outlet</td>\n",
              "    </tr>\n",
              "    <tr>\n",
              "      <th>9646</th>\n",
              "      <td>Foot Locker</td>\n",
              "      <td>1185732</td>\n",
              "      <td>2/22/2021</td>\n",
              "      <td>Northeast</td>\n",
              "      <td>New Hampshire</td>\n",
              "      <td>Manchester</td>\n",
              "      <td>Men's Athletic Footwear</td>\n",
              "      <td>$42.00</td>\n",
              "      <td>70</td>\n",
              "      <td>294</td>\n",
              "      <td>$123</td>\n",
              "      <td>Outlet</td>\n",
              "    </tr>\n",
              "    <tr>\n",
              "      <th>9647</th>\n",
              "      <td>Foot Locker</td>\n",
              "      <td>1185732</td>\n",
              "      <td>2/22/2021</td>\n",
              "      <td>Northeast</td>\n",
              "      <td>New Hampshire</td>\n",
              "      <td>Manchester</td>\n",
              "      <td>Women's Street Footwear</td>\n",
              "      <td>$29.00</td>\n",
              "      <td>83</td>\n",
              "      <td>241</td>\n",
              "      <td>$65</td>\n",
              "      <td>Outlet</td>\n",
              "    </tr>\n",
              "  </tbody>\n",
              "</table>\n",
              "<p>9648 rows × 12 columns</p>\n",
              "</div>\n",
              "      <button class=\"colab-df-convert\" onclick=\"convertToInteractive('df-5b842b3b-32c0-494a-876f-d60448c7b62e')\"\n",
              "              title=\"Convert this dataframe to an interactive table.\"\n",
              "              style=\"display:none;\">\n",
              "        \n",
              "  <svg xmlns=\"http://www.w3.org/2000/svg\" height=\"24px\"viewBox=\"0 0 24 24\"\n",
              "       width=\"24px\">\n",
              "    <path d=\"M0 0h24v24H0V0z\" fill=\"none\"/>\n",
              "    <path d=\"M18.56 5.44l.94 2.06.94-2.06 2.06-.94-2.06-.94-.94-2.06-.94 2.06-2.06.94zm-11 1L8.5 8.5l.94-2.06 2.06-.94-2.06-.94L8.5 2.5l-.94 2.06-2.06.94zm10 10l.94 2.06.94-2.06 2.06-.94-2.06-.94-.94-2.06-.94 2.06-2.06.94z\"/><path d=\"M17.41 7.96l-1.37-1.37c-.4-.4-.92-.59-1.43-.59-.52 0-1.04.2-1.43.59L10.3 9.45l-7.72 7.72c-.78.78-.78 2.05 0 2.83L4 21.41c.39.39.9.59 1.41.59.51 0 1.02-.2 1.41-.59l7.78-7.78 2.81-2.81c.8-.78.8-2.07 0-2.86zM5.41 20L4 18.59l7.72-7.72 1.47 1.35L5.41 20z\"/>\n",
              "  </svg>\n",
              "      </button>\n",
              "      \n",
              "  <style>\n",
              "    .colab-df-container {\n",
              "      display:flex;\n",
              "      flex-wrap:wrap;\n",
              "      gap: 12px;\n",
              "    }\n",
              "\n",
              "    .colab-df-convert {\n",
              "      background-color: #E8F0FE;\n",
              "      border: none;\n",
              "      border-radius: 50%;\n",
              "      cursor: pointer;\n",
              "      display: none;\n",
              "      fill: #1967D2;\n",
              "      height: 32px;\n",
              "      padding: 0 0 0 0;\n",
              "      width: 32px;\n",
              "    }\n",
              "\n",
              "    .colab-df-convert:hover {\n",
              "      background-color: #E2EBFA;\n",
              "      box-shadow: 0px 1px 2px rgba(60, 64, 67, 0.3), 0px 1px 3px 1px rgba(60, 64, 67, 0.15);\n",
              "      fill: #174EA6;\n",
              "    }\n",
              "\n",
              "    [theme=dark] .colab-df-convert {\n",
              "      background-color: #3B4455;\n",
              "      fill: #D2E3FC;\n",
              "    }\n",
              "\n",
              "    [theme=dark] .colab-df-convert:hover {\n",
              "      background-color: #434B5C;\n",
              "      box-shadow: 0px 1px 3px 1px rgba(0, 0, 0, 0.15);\n",
              "      filter: drop-shadow(0px 1px 2px rgba(0, 0, 0, 0.3));\n",
              "      fill: #FFFFFF;\n",
              "    }\n",
              "  </style>\n",
              "\n",
              "      <script>\n",
              "        const buttonEl =\n",
              "          document.querySelector('#df-5b842b3b-32c0-494a-876f-d60448c7b62e button.colab-df-convert');\n",
              "        buttonEl.style.display =\n",
              "          google.colab.kernel.accessAllowed ? 'block' : 'none';\n",
              "\n",
              "        async function convertToInteractive(key) {\n",
              "          const element = document.querySelector('#df-5b842b3b-32c0-494a-876f-d60448c7b62e');\n",
              "          const dataTable =\n",
              "            await google.colab.kernel.invokeFunction('convertToInteractive',\n",
              "                                                     [key], {});\n",
              "          if (!dataTable) return;\n",
              "\n",
              "          const docLinkHtml = 'Like what you see? Visit the ' +\n",
              "            '<a target=\"_blank\" href=https://colab.research.google.com/notebooks/data_table.ipynb>data table notebook</a>'\n",
              "            + ' to learn more about interactive tables.';\n",
              "          element.innerHTML = '';\n",
              "          dataTable['output_type'] = 'display_data';\n",
              "          await google.colab.output.renderOutput(dataTable, element);\n",
              "          const docLink = document.createElement('div');\n",
              "          docLink.innerHTML = docLinkHtml;\n",
              "          element.appendChild(docLink);\n",
              "        }\n",
              "      </script>\n",
              "    </div>\n",
              "  </div>\n",
              "  "
            ]
          },
          "metadata": {},
          "execution_count": 3
        }
      ],
      "source": [
        "data"
      ]
    },
    {
      "cell_type": "code",
      "execution_count": null,
      "metadata": {
        "colab": {
          "base_uri": "https://localhost:8080/"
        },
        "id": "UPsaVNFJlf7t",
        "outputId": "b27d5157-93bf-4566-d0ac-a5420953c695"
      },
      "outputs": [
        {
          "output_type": "stream",
          "name": "stdout",
          "text": [
            "<class 'pandas.core.frame.DataFrame'>\n",
            "RangeIndex: 9648 entries, 0 to 9647\n",
            "Data columns (total 12 columns):\n",
            " #   Column            Non-Null Count  Dtype \n",
            "---  ------            --------------  ----- \n",
            " 0   Retailer          9648 non-null   object\n",
            " 1   Retailer ID       9648 non-null   int64 \n",
            " 2   Invoice Date      9648 non-null   object\n",
            " 3   Region            9641 non-null   object\n",
            " 4   State             9648 non-null   object\n",
            " 5   City              9648 non-null   object\n",
            " 6   Product           9648 non-null   object\n",
            " 7   Price per Unit    9646 non-null   object\n",
            " 8   Units Sold        9648 non-null   object\n",
            " 9   Total Sales       9648 non-null   object\n",
            " 10  Operating Profit  9648 non-null   object\n",
            " 11  Sales Method      9648 non-null   object\n",
            "dtypes: int64(1), object(11)\n",
            "memory usage: 904.6+ KB\n"
          ]
        }
      ],
      "source": [
        "data.info()"
      ]
    },
    {
      "cell_type": "code",
      "execution_count": null,
      "metadata": {
        "colab": {
          "base_uri": "https://localhost:8080/"
        },
        "id": "bw9xExE0DMd8",
        "outputId": "bdd3c5b3-40a0-4f07-ec05-1fa14b4c37d6"
      },
      "outputs": [
        {
          "output_type": "execute_result",
          "data": {
            "text/plain": [
              "7"
            ]
          },
          "metadata": {},
          "execution_count": 5
        }
      ],
      "source": [
        "data['Product'].nunique()"
      ]
    },
    {
      "cell_type": "markdown",
      "metadata": {
        "id": "P6rpqPNUC3Yx"
      },
      "source": [
        "# Questions"
      ]
    },
    {
      "cell_type": "code",
      "execution_count": null,
      "metadata": {
        "id": "t67yrrZfl-db"
      },
      "outputs": [],
      "source": [
        "#Count of each product\n",
        "#What about sales over years\n",
        "#what about sales over months \n",
        "#how many products sold at every year\n",
        "#average of sales for every region\n",
        "#average of sales for every product\n",
        "#which sale method is the most\n",
        "#which sale method is the most for each region\n",
        "#mean of sales\n",
        "#what is the top product with total sales \n",
        "#what is the last product with total sales \n",
        "#which retailer is the most"
      ]
    },
    {
      "cell_type": "markdown",
      "metadata": {
        "id": "phSG3x4kEcFT"
      },
      "source": [
        "# Describe Data\n"
      ]
    },
    {
      "cell_type": "code",
      "execution_count": null,
      "metadata": {
        "colab": {
          "base_uri": "https://localhost:8080/",
          "height": 300
        },
        "id": "FzjkktlyETSJ",
        "outputId": "101f1db4-579d-4fd0-f7d2-727219dfa79b"
      },
      "outputs": [
        {
          "output_type": "execute_result",
          "data": {
            "text/plain": [
              "        Retailer ID\n",
              "count  9.648000e+03\n",
              "mean   1.173850e+06\n",
              "std    2.636038e+04\n",
              "min    1.128299e+06\n",
              "25%    1.185732e+06\n",
              "50%    1.185732e+06\n",
              "75%    1.185732e+06\n",
              "max    1.197831e+06"
            ],
            "text/html": [
              "\n",
              "  <div id=\"df-ff1d9b29-da20-4220-9cbd-4c90425794ec\">\n",
              "    <div class=\"colab-df-container\">\n",
              "      <div>\n",
              "<style scoped>\n",
              "    .dataframe tbody tr th:only-of-type {\n",
              "        vertical-align: middle;\n",
              "    }\n",
              "\n",
              "    .dataframe tbody tr th {\n",
              "        vertical-align: top;\n",
              "    }\n",
              "\n",
              "    .dataframe thead th {\n",
              "        text-align: right;\n",
              "    }\n",
              "</style>\n",
              "<table border=\"1\" class=\"dataframe\">\n",
              "  <thead>\n",
              "    <tr style=\"text-align: right;\">\n",
              "      <th></th>\n",
              "      <th>Retailer ID</th>\n",
              "    </tr>\n",
              "  </thead>\n",
              "  <tbody>\n",
              "    <tr>\n",
              "      <th>count</th>\n",
              "      <td>9.648000e+03</td>\n",
              "    </tr>\n",
              "    <tr>\n",
              "      <th>mean</th>\n",
              "      <td>1.173850e+06</td>\n",
              "    </tr>\n",
              "    <tr>\n",
              "      <th>std</th>\n",
              "      <td>2.636038e+04</td>\n",
              "    </tr>\n",
              "    <tr>\n",
              "      <th>min</th>\n",
              "      <td>1.128299e+06</td>\n",
              "    </tr>\n",
              "    <tr>\n",
              "      <th>25%</th>\n",
              "      <td>1.185732e+06</td>\n",
              "    </tr>\n",
              "    <tr>\n",
              "      <th>50%</th>\n",
              "      <td>1.185732e+06</td>\n",
              "    </tr>\n",
              "    <tr>\n",
              "      <th>75%</th>\n",
              "      <td>1.185732e+06</td>\n",
              "    </tr>\n",
              "    <tr>\n",
              "      <th>max</th>\n",
              "      <td>1.197831e+06</td>\n",
              "    </tr>\n",
              "  </tbody>\n",
              "</table>\n",
              "</div>\n",
              "      <button class=\"colab-df-convert\" onclick=\"convertToInteractive('df-ff1d9b29-da20-4220-9cbd-4c90425794ec')\"\n",
              "              title=\"Convert this dataframe to an interactive table.\"\n",
              "              style=\"display:none;\">\n",
              "        \n",
              "  <svg xmlns=\"http://www.w3.org/2000/svg\" height=\"24px\"viewBox=\"0 0 24 24\"\n",
              "       width=\"24px\">\n",
              "    <path d=\"M0 0h24v24H0V0z\" fill=\"none\"/>\n",
              "    <path d=\"M18.56 5.44l.94 2.06.94-2.06 2.06-.94-2.06-.94-.94-2.06-.94 2.06-2.06.94zm-11 1L8.5 8.5l.94-2.06 2.06-.94-2.06-.94L8.5 2.5l-.94 2.06-2.06.94zm10 10l.94 2.06.94-2.06 2.06-.94-2.06-.94-.94-2.06-.94 2.06-2.06.94z\"/><path d=\"M17.41 7.96l-1.37-1.37c-.4-.4-.92-.59-1.43-.59-.52 0-1.04.2-1.43.59L10.3 9.45l-7.72 7.72c-.78.78-.78 2.05 0 2.83L4 21.41c.39.39.9.59 1.41.59.51 0 1.02-.2 1.41-.59l7.78-7.78 2.81-2.81c.8-.78.8-2.07 0-2.86zM5.41 20L4 18.59l7.72-7.72 1.47 1.35L5.41 20z\"/>\n",
              "  </svg>\n",
              "      </button>\n",
              "      \n",
              "  <style>\n",
              "    .colab-df-container {\n",
              "      display:flex;\n",
              "      flex-wrap:wrap;\n",
              "      gap: 12px;\n",
              "    }\n",
              "\n",
              "    .colab-df-convert {\n",
              "      background-color: #E8F0FE;\n",
              "      border: none;\n",
              "      border-radius: 50%;\n",
              "      cursor: pointer;\n",
              "      display: none;\n",
              "      fill: #1967D2;\n",
              "      height: 32px;\n",
              "      padding: 0 0 0 0;\n",
              "      width: 32px;\n",
              "    }\n",
              "\n",
              "    .colab-df-convert:hover {\n",
              "      background-color: #E2EBFA;\n",
              "      box-shadow: 0px 1px 2px rgba(60, 64, 67, 0.3), 0px 1px 3px 1px rgba(60, 64, 67, 0.15);\n",
              "      fill: #174EA6;\n",
              "    }\n",
              "\n",
              "    [theme=dark] .colab-df-convert {\n",
              "      background-color: #3B4455;\n",
              "      fill: #D2E3FC;\n",
              "    }\n",
              "\n",
              "    [theme=dark] .colab-df-convert:hover {\n",
              "      background-color: #434B5C;\n",
              "      box-shadow: 0px 1px 3px 1px rgba(0, 0, 0, 0.15);\n",
              "      filter: drop-shadow(0px 1px 2px rgba(0, 0, 0, 0.3));\n",
              "      fill: #FFFFFF;\n",
              "    }\n",
              "  </style>\n",
              "\n",
              "      <script>\n",
              "        const buttonEl =\n",
              "          document.querySelector('#df-ff1d9b29-da20-4220-9cbd-4c90425794ec button.colab-df-convert');\n",
              "        buttonEl.style.display =\n",
              "          google.colab.kernel.accessAllowed ? 'block' : 'none';\n",
              "\n",
              "        async function convertToInteractive(key) {\n",
              "          const element = document.querySelector('#df-ff1d9b29-da20-4220-9cbd-4c90425794ec');\n",
              "          const dataTable =\n",
              "            await google.colab.kernel.invokeFunction('convertToInteractive',\n",
              "                                                     [key], {});\n",
              "          if (!dataTable) return;\n",
              "\n",
              "          const docLinkHtml = 'Like what you see? Visit the ' +\n",
              "            '<a target=\"_blank\" href=https://colab.research.google.com/notebooks/data_table.ipynb>data table notebook</a>'\n",
              "            + ' to learn more about interactive tables.';\n",
              "          element.innerHTML = '';\n",
              "          dataTable['output_type'] = 'display_data';\n",
              "          await google.colab.output.renderOutput(dataTable, element);\n",
              "          const docLink = document.createElement('div');\n",
              "          docLink.innerHTML = docLinkHtml;\n",
              "          element.appendChild(docLink);\n",
              "        }\n",
              "      </script>\n",
              "    </div>\n",
              "  </div>\n",
              "  "
            ]
          },
          "metadata": {},
          "execution_count": 7
        }
      ],
      "source": [
        "data.describe()"
      ]
    },
    {
      "cell_type": "markdown",
      "metadata": {
        "id": "r87W2rGCGObI"
      },
      "source": [
        "it returns only retailer ID then we have problem with features like price,units sold , total sales so let's fix it"
      ]
    },
    {
      "cell_type": "markdown",
      "metadata": {
        "id": "P0fTdrlfbOdE"
      },
      "source": [
        "# Clean Data"
      ]
    },
    {
      "cell_type": "code",
      "execution_count": null,
      "metadata": {
        "colab": {
          "base_uri": "https://localhost:8080/"
        },
        "id": "TDSJ6rLkGNRX",
        "outputId": "b496c56c-cd3b-444c-e11c-311db45a446b"
      },
      "outputs": [
        {
          "output_type": "stream",
          "name": "stdout",
          "text": [
            "Column Name: Retailer Consists of : ['Foot Locker' 'Walmart' 'Sports Direct' 'West Gear' \"Kohl's\" 'Amazon']\n",
            "-------------------------------------------------\n",
            "Column Name: Region Consists of : ['Northeast' 'South' nan 'West' 'Midwest' 'Southeast']\n",
            "-------------------------------------------------\n",
            "Column Name: State Consists of : ['New York' 'Texas' 'California' 'Illinois' 'Pennsylvania' 'Nevada'\n",
            " 'Colorado' 'Washington' 'Florida' 'Minnesota' 'Montana' 'Tennessee'\n",
            " 'Nebraska' 'Alabama' 'Maine' 'Alaska' 'Hawaii' 'Wyoming' 'Virginia'\n",
            " 'Michigan' 'Missouri' 'Utah' 'Oregon' 'Louisiana' 'Idaho' 'Arizona'\n",
            " 'New Mexico' 'Georgia' 'South Carolina' 'North Carolina' 'Ohio'\n",
            " 'Kentucky' 'Mississippi' 'Arkansas' 'Oklahoma' 'Kansas' 'South Dakota'\n",
            " 'North Dakota' 'Iowa' 'Wisconsin' 'Indiana' 'West Virginia' 'Maryland'\n",
            " 'Delaware' 'New Jersey' 'Connecticut' 'Rhode Island' 'Massachusetts'\n",
            " 'Vermont' 'New Hampshire']\n",
            "-------------------------------------------------\n",
            "Column Name: City Consists of : ['New York' 'Houston' 'San Francisco' 'Los Angeles' 'Chicago' 'Dallas'\n",
            " 'Philadelphia' 'Las Vegas' 'Denver' 'Seattle' 'Miami' 'Minneapolis'\n",
            " 'Billings' 'Knoxville' 'Omaha' 'Birmingham' 'Portland' 'Anchorage'\n",
            " 'Honolulu' 'Orlando' 'Albany' 'Cheyenne' 'Richmond' 'Detroit' 'St. Louis'\n",
            " 'Salt Lake City' 'New Orleans' 'Boise' 'Phoenix' 'Albuquerque' 'Atlanta'\n",
            " 'Charleston' 'Charlotte' 'Columbus' 'Louisville' 'Jackson' 'Little Rock'\n",
            " 'Oklahoma City' 'Wichita' 'Sioux Falls' 'Fargo' 'Des Moines' 'Milwaukee'\n",
            " 'Indianapolis' 'Baltimore' 'Wilmington' 'Newark' 'Hartford' 'Providence'\n",
            " 'Boston' 'Burlington' 'Manchester']\n",
            "-------------------------------------------------\n",
            "Column Name: Product Consists of : [\"Men's Street Footwear\" \"Men's Athletic Footwear\"\n",
            " \"Women's Street Footwear\" \"Women's Athletic Footwear\" \"Men's Apparel\"\n",
            " \"Women's Apparel\" \"Men's aparel\"]\n",
            "-------------------------------------------------\n",
            "Column Name: Price per Unit Consists of : ['$50.00 ' '$40.00 ' '$45.00 ' '$60.00 ' nan '$55.00 ' '$65.00 ' '$70.00 '\n",
            " '$25.00 ' '$35.00 ' '$30.00 ' '$80.00 ' '$75.00 ' '$20.00 ' '$85.00 '\n",
            " '$100.00 ' '$90.00 ' '$95.00 ' '$15.00 ' '$10.00 ' '$110.00 ' '$105.00 '\n",
            " '$47.00 ' '$36.00 ' '$41.00 ' '$46.00 ' '$44.00 ' '$58.00 ' '$48.00 '\n",
            " '$39.00 ' '$43.00 ' '$59.00 ' '$56.00 ' '$49.00 ' '$54.00 ' '$64.00 '\n",
            " '$53.00 ' '$61.00 ' '$62.00 ' '$68.00 ' '$52.00 ' '$66.00 ' '$51.00 '\n",
            " '$24.00 ' '$34.00 ' '$33.00 ' '$23.00 ' '$32.00 ' '$38.00 ' '$29.00 '\n",
            " '$37.00 ' '$27.00 ' '$42.00 ' '$72.00 ' '$63.00 ' '$69.00 ' '$76.00 '\n",
            " '$67.00 ' '$57.00 ' '$28.00 ' '$18.00 ' '$19.00 ' '$71.00 ' '$78.00 '\n",
            " '$73.00 ' '$74.00 ' '$83.00 ' '$82.00 ' '$98.00 ' '$77.00 ' '$88.00 '\n",
            " '$86.00 ' '$14.00 ' '$9.00 ' '$97.00 ' '$81.00 ' '$79.00 ' '$96.00 '\n",
            " '$84.00 ' '$89.00 ' '$103.00 ' '$101.00 ' '$87.00 ' '$92.00 ' '$31.00 '\n",
            " '$26.00 ' '$21.00 ' '$13.00 ' '$22.00 ' '$17.00 ' '$12.00 ' '$16.00 '\n",
            " '$11.00 ' '$7.00 ' '$8.00 ']\n",
            "-------------------------------------------------\n",
            "Column Name: Units Sold Consists of : ['1,200' '1,000' '850' '900' '1,250' '950' '825' '1,220' '925' '800' '875'\n",
            " '1,050' '1,275' '1,025' '1,100' '1,075' '1,150' '975' '920' '700' '550'\n",
            " '675' '625' '500' '600' '650' '725' '525' '775' '750' '575' '450' '425'\n",
            " '475' '275' '125' '175' '225' '100' '495' '200' '75' '150' '250' '350'\n",
            " '325' '400' '375' '300' '195' '50' '445' '25' '470' '1,070' '1,125' '745'\n",
            " '145' '420' '0' '95' '545' '570' '320' '870' '820' '520' '770' '795'\n",
            " '620' '295' '670' '345' '1,020' '1,045' '695' '945' '595' '220' '720'\n",
            " '395' '645' '245' '270' '170' '336' '260' '247' '234' '313' '261' '276'\n",
            " '206' '243' '290' '354' '259' '216' '230' '238' '252' '239' '215' '317'\n",
            " '278' '305' '319' '267' '231' '286' '308' '257' '241' '360' '268' '280'\n",
            " '236' '299' '273' '258' '254' '263' '312' '285' '210' '154' '203' '213'\n",
            " '255' '176' '196' '182' '174' '189' '163' '147' '232' '168' '169' '293'\n",
            " '297' '181' '240' '188' '209' '194' '217' '161' '233' '223' '140' '228'\n",
            " '152' '218' '248' '155' '219' '277' '202' '208' '160' '113' '106' '156'\n",
            " '119' '131' '221' '224' '124' '77' '83' '34' '47' '69' '158' '51' '61'\n",
            " '28' '44' '144' '60' '68' '19' '38' '63' '122' '42' '20' '65' '134' '54'\n",
            " '35' '135' '105' '81' '56' '120' '149' '94' '84' '49' '73' '115' '39'\n",
            " '33' '112' '53' '41' '58' '128' '116' '85' '167' '142' '126' '111' '138'\n",
            " '173' '36' '46' '13' '8' '45' '22' '136' '29' '31' '70' '90' '59' '98'\n",
            " '143' '80' '104' '27' '55' '117' '87' '74' '52' '102' '165' '130' '108'\n",
            " '162' '109' '88' '133' '123' '72' '91' '137' '78' '101' '256' '244' '304'\n",
            " '284' '323' '26' '7' '14' '21' '180' '23' '6' '118' '30' '127' '153' '93'\n",
            " '246' '146' '207' '186' '265' '283' '282' '311' '326' '287' '294' '57'\n",
            " '187' '139' '129' '141' '151' '164' '179' '15' '48' '86' '64' '96' '384'\n",
            " '281' '306' '330' '388' '315' '390' '314' '289' '372' '333' '366' '296'\n",
            " '288' '340' '347' '434' '318' '352' '359' '324' '279' '355' '408' '403'\n",
            " '322' '310' '204' '272' '264' '374' '302' '298' '184' '271' '190' '341'\n",
            " '338' '332' '198' '193' '107' '192' '201' '166' '17' '40' '24' '99' '79'\n",
            " '62' '66' '171' '132' '178' '157' '114' '43' '349' '376' '191' '103' '16'\n",
            " '32' '185' '177']\n",
            "-------------------------------------------------\n",
            "Column Name: Total Sales Consists of : ['60,000' '50,000' '40,000' ... '917' '903' '433']\n",
            "-------------------------------------------------\n",
            "Column Name: Operating Profit Consists of : ['$30,000 ' '$15,000 ' '$14,000 ' ... '$794 ' '$32 ' '$8 ']\n",
            "-------------------------------------------------\n",
            "Column Name: Sales Method Consists of : ['In-store' 'Outlet' 'Online']\n",
            "-------------------------------------------------\n"
          ]
        }
      ],
      "source": [
        "EXPData = data.drop(['Retailer ID','Invoice Date'],axis = 1)\n",
        "for i in EXPData:\n",
        "  print('Column Name:', i , 'Consists of :' , data[i].unique())\n",
        "  print('-------------------------------------------------')"
      ]
    },
    {
      "cell_type": "code",
      "execution_count": null,
      "metadata": {
        "colab": {
          "base_uri": "https://localhost:8080/"
        },
        "id": "BpX8yAU0ccho",
        "outputId": "08ac2929-03ed-49a7-cb77-31db863ee110"
      },
      "outputs": [
        {
          "output_type": "stream",
          "name": "stdout",
          "text": [
            "Column Name: Retailer Consists of :\n",
            " Foot Locker      2637\n",
            "West Gear        2374\n",
            "Sports Direct    2032\n",
            "Kohl's           1030\n",
            "Amazon            949\n",
            "Walmart           626\n",
            "Name: Retailer, dtype: int64\n",
            "-------------------------------------------------\n",
            "Column Name: Region Consists of :\n",
            " West         2446\n",
            "Northeast    2376\n",
            "Midwest      1869\n",
            "South        1726\n",
            "Southeast    1224\n",
            "Name: Region, dtype: int64\n",
            "-------------------------------------------------\n",
            "Column Name: State Consists of :\n",
            " California        432\n",
            "Texas             432\n",
            "New York          360\n",
            "Florida           360\n",
            "Mississippi       216\n",
            "Oregon            216\n",
            "Louisiana         216\n",
            "Idaho             216\n",
            "New Mexico        216\n",
            "Georgia           216\n",
            "Arkansas          216\n",
            "Virginia          216\n",
            "Oklahoma          216\n",
            "Connecticut       216\n",
            "Rhode Island      216\n",
            "Massachusetts     216\n",
            "Vermont           216\n",
            "Utah              216\n",
            "Arizona           216\n",
            "New Hampshire     216\n",
            "Pennsylvania      216\n",
            "Nevada            216\n",
            "Alabama           216\n",
            "Tennessee         216\n",
            "South Dakota      144\n",
            "Illinois          144\n",
            "Colorado          144\n",
            "New Jersey        144\n",
            "Delaware          144\n",
            "Maryland          144\n",
            "West Virginia     144\n",
            "Indiana           144\n",
            "Wisconsin         144\n",
            "Iowa              144\n",
            "North Dakota      144\n",
            "Michigan          144\n",
            "Kansas            144\n",
            "Missouri          144\n",
            "Minnesota         144\n",
            "Montana           144\n",
            "Kentucky          144\n",
            "Ohio              144\n",
            "North Carolina    144\n",
            "South Carolina    144\n",
            "Nebraska          144\n",
            "Maine             144\n",
            "Alaska            144\n",
            "Hawaii            144\n",
            "Wyoming           144\n",
            "Washington        144\n",
            "Name: State, dtype: int64\n",
            "-------------------------------------------------\n",
            "Column Name: City Consists of :\n",
            " Portland          360\n",
            "Charleston        288\n",
            "Orlando           216\n",
            "Salt Lake City    216\n",
            "Houston           216\n",
            "Boise             216\n",
            "Phoenix           216\n",
            "Albuquerque       216\n",
            "Atlanta           216\n",
            "New York          216\n",
            "Jackson           216\n",
            "Little Rock       216\n",
            "Oklahoma City     216\n",
            "Hartford          216\n",
            "Providence        216\n",
            "Boston            216\n",
            "Burlington        216\n",
            "Richmond          216\n",
            "New Orleans       216\n",
            "Manchester        216\n",
            "Dallas            216\n",
            "Philadelphia      216\n",
            "Knoxville         216\n",
            "Birmingham        216\n",
            "Las Vegas         216\n",
            "Los Angeles       216\n",
            "San Francisco     216\n",
            "Chicago           144\n",
            "Newark            144\n",
            "Baltimore         144\n",
            "Indianapolis      144\n",
            "Milwaukee         144\n",
            "Des Moines        144\n",
            "Fargo             144\n",
            "Sioux Falls       144\n",
            "Wichita           144\n",
            "Wilmington        144\n",
            "Honolulu          144\n",
            "Albany            144\n",
            "Louisville        144\n",
            "Columbus          144\n",
            "Charlotte         144\n",
            "Seattle           144\n",
            "Miami             144\n",
            "Minneapolis       144\n",
            "Billings          144\n",
            "Omaha             144\n",
            "St. Louis         144\n",
            "Detroit           144\n",
            "Anchorage         144\n",
            "Cheyenne          144\n",
            "Denver            144\n",
            "Name: City, dtype: int64\n",
            "-------------------------------------------------\n",
            "Column Name: Product Consists of :\n",
            " Men's Street Footwear        1610\n",
            "Men's Athletic Footwear      1610\n",
            "Women's Street Footwear      1608\n",
            "Women's Apparel              1608\n",
            "Women's Athletic Footwear    1606\n",
            "Men's Apparel                1605\n",
            "Men's aparel                    1\n",
            "Name: Product, dtype: int64\n",
            "-------------------------------------------------\n",
            "Column Name: Price per Unit Consists of :\n",
            " $50.00      675\n",
            "$55.00      589\n",
            "$45.00      588\n",
            "$40.00      533\n",
            "$60.00      456\n",
            "           ... \n",
            "$97.00        2\n",
            "$88.00        2\n",
            "$101.00       1\n",
            "$98.00        1\n",
            "$8.00         1\n",
            "Name: Price per Unit, Length: 94, dtype: int64\n",
            "-------------------------------------------------\n",
            "Column Name: Units Sold Consists of :\n",
            " 225    207\n",
            "150    203\n",
            "175    191\n",
            "300    189\n",
            "200    174\n",
            "      ... \n",
            "388      1\n",
            "336      1\n",
            "384      1\n",
            "86       1\n",
            "177      1\n",
            "Name: Units Sold, Length: 361, dtype: int64\n",
            "-------------------------------------------------\n",
            "Column Name: Total Sales Consists of :\n",
            " 10,000    67\n",
            "9,000     57\n",
            "18,000    57\n",
            "13,500    56\n",
            "7,875     53\n",
            "          ..\n",
            "1,401      1\n",
            "1,285      1\n",
            "54,625     1\n",
            "1,659      1\n",
            "433        1\n",
            "Name: Total Sales, Length: 1710, dtype: int64\n",
            "-------------------------------------------------\n",
            "Column Name: Operating Profit Consists of :\n",
            " $10,500     39\n",
            "$6,300      39\n",
            "$2,100      38\n",
            "$4,500      38\n",
            "$3,150      38\n",
            "            ..\n",
            "$10,875      1\n",
            "$6,094       1\n",
            "$6,531       1\n",
            "$6,175       1\n",
            "$8           1\n",
            "Name: Operating Profit, Length: 1531, dtype: int64\n",
            "-------------------------------------------------\n",
            "Column Name: Sales Method Consists of :\n",
            " Online      4889\n",
            "Outlet      3019\n",
            "In-store    1740\n",
            "Name: Sales Method, dtype: int64\n",
            "-------------------------------------------------\n"
          ]
        }
      ],
      "source": [
        "for i in EXPData:\n",
        "  print('Column Name:', i , 'Consists of :\\n', data[i].value_counts())\n",
        "  print('-------------------------------------------------')"
      ]
    },
    {
      "cell_type": "markdown",
      "metadata": {
        "id": "sHxVrzK2dfuk"
      },
      "source": [
        "## Fix object feature with integer data"
      ]
    },
    {
      "cell_type": "code",
      "execution_count": null,
      "metadata": {
        "id": "YP0Ad4FpcyDM"
      },
      "outputs": [],
      "source": [
        "data['Total Sales']= data['Total Sales'].str.replace(\",\",\"\")\n",
        "data['Total Sales']= data['Total Sales'].astype('int')"
      ]
    },
    {
      "cell_type": "code",
      "execution_count": null,
      "metadata": {
        "colab": {
          "base_uri": "https://localhost:8080/"
        },
        "id": "dwcwuMlgd4ef",
        "outputId": "83c59fc8-5d4a-4ccf-e77f-59968bd48316"
      },
      "outputs": [
        {
          "output_type": "execute_result",
          "data": {
            "text/plain": [
              "count     9648.000000\n",
              "mean      9327.367537\n",
              "std      14191.586965\n",
              "min          0.000000\n",
              "25%        425.750000\n",
              "50%        958.000000\n",
              "75%      15000.000000\n",
              "max      82500.000000\n",
              "Name: Total Sales, dtype: float64"
            ]
          },
          "metadata": {},
          "execution_count": 11
        }
      ],
      "source": [
        "data['Total Sales'].describe()"
      ]
    },
    {
      "cell_type": "code",
      "execution_count": null,
      "metadata": {
        "colab": {
          "base_uri": "https://localhost:8080/"
        },
        "id": "rRsNKoy6d6xx",
        "outputId": "3e045741-06f6-40c6-f00a-63cd36b87df1"
      },
      "outputs": [
        {
          "output_type": "stream",
          "name": "stderr",
          "text": [
            "<ipython-input-12-3acf3dc13711>:2: FutureWarning: The default value of regex will change from True to False in a future version. In addition, single character regular expressions will *not* be treated as literal strings when regex=True.\n",
            "  data['Operating Profit']= data['Operating Profit'].str.replace(\"$\",\"\")\n"
          ]
        }
      ],
      "source": [
        "data['Operating Profit']= data['Operating Profit'].str.replace(\",\",\"\")\n",
        "data['Operating Profit']= data['Operating Profit'].str.replace(\"$\",\"\")\n",
        "data['Operating Profit']= data['Operating Profit'].astype('int')"
      ]
    },
    {
      "cell_type": "code",
      "execution_count": null,
      "metadata": {
        "colab": {
          "base_uri": "https://localhost:8080/"
        },
        "id": "1yYvb2KkefQE",
        "outputId": "03529d7e-1df6-45a6-b49d-329285d3953f"
      },
      "outputs": [
        {
          "output_type": "execute_result",
          "data": {
            "text/plain": [
              "count     9648.000000\n",
              "mean      3442.564884\n",
              "std       5419.341299\n",
              "min          0.000000\n",
              "25%        192.000000\n",
              "50%        437.000000\n",
              "75%       5206.000000\n",
              "max      39000.000000\n",
              "Name: Operating Profit, dtype: float64"
            ]
          },
          "metadata": {},
          "execution_count": 13
        }
      ],
      "source": [
        "data['Operating Profit'].describe()"
      ]
    },
    {
      "cell_type": "code",
      "execution_count": null,
      "metadata": {
        "id": "zeqp6iAee4US"
      },
      "outputs": [],
      "source": [
        "data['Units Sold']= data['Units Sold'].str.replace(\",\",\"\")\n",
        "data['Units Sold']= data['Units Sold'].astype('int')"
      ]
    },
    {
      "cell_type": "code",
      "execution_count": null,
      "metadata": {
        "colab": {
          "base_uri": "https://localhost:8080/"
        },
        "id": "FCWHiOxLfHkp",
        "outputId": "7c591159-219f-444e-ea34-85b0384d1160"
      },
      "outputs": [
        {
          "output_type": "execute_result",
          "data": {
            "text/plain": [
              "count    9648.000000\n",
              "mean      256.930037\n",
              "std       214.252030\n",
              "min         0.000000\n",
              "25%       106.000000\n",
              "50%       176.000000\n",
              "75%       350.000000\n",
              "max      1275.000000\n",
              "Name: Units Sold, dtype: float64"
            ]
          },
          "metadata": {},
          "execution_count": 15
        }
      ],
      "source": [
        "data['Units Sold'].describe()"
      ]
    },
    {
      "cell_type": "code",
      "execution_count": null,
      "metadata": {
        "colab": {
          "base_uri": "https://localhost:8080/"
        },
        "id": "rIp_kHqyfM3O",
        "outputId": "c99d342e-2ffd-463f-9f78-aa61ab0c25d3"
      },
      "outputs": [
        {
          "output_type": "stream",
          "name": "stderr",
          "text": [
            "<ipython-input-16-0a55cf26bbbc>:1: FutureWarning: The default value of regex will change from True to False in a future version. In addition, single character regular expressions will *not* be treated as literal strings when regex=True.\n",
            "  data['Price per Unit']= data['Price per Unit'].str.replace(\"$\",\"\")\n"
          ]
        }
      ],
      "source": [
        "data['Price per Unit']= data['Price per Unit'].str.replace(\"$\",\"\")\n",
        "data['Price per Unit']= data['Price per Unit'].astype('float')"
      ]
    },
    {
      "cell_type": "code",
      "execution_count": null,
      "metadata": {
        "colab": {
          "base_uri": "https://localhost:8080/"
        },
        "id": "xjpYfWWcff9R",
        "outputId": "41b981ec-732c-4f80-a38e-8bfffeb7a8aa"
      },
      "outputs": [
        {
          "output_type": "execute_result",
          "data": {
            "text/plain": [
              "count    9646.000000\n",
              "mean       45.215633\n",
              "std        14.706055\n",
              "min         7.000000\n",
              "25%        35.000000\n",
              "50%        45.000000\n",
              "75%        55.000000\n",
              "max       110.000000\n",
              "Name: Price per Unit, dtype: float64"
            ]
          },
          "metadata": {},
          "execution_count": 17
        }
      ],
      "source": [
        "data['Price per Unit'].describe()"
      ]
    },
    {
      "cell_type": "code",
      "execution_count": null,
      "metadata": {
        "colab": {
          "base_uri": "https://localhost:8080/"
        },
        "id": "dbyTmSOvfj0a",
        "outputId": "fd391e7d-5fbb-49ea-9bac-a5aa9af12940"
      },
      "outputs": [
        {
          "output_type": "stream",
          "name": "stdout",
          "text": [
            "<class 'pandas.core.frame.DataFrame'>\n",
            "RangeIndex: 9648 entries, 0 to 9647\n",
            "Data columns (total 12 columns):\n",
            " #   Column            Non-Null Count  Dtype  \n",
            "---  ------            --------------  -----  \n",
            " 0   Retailer          9648 non-null   object \n",
            " 1   Retailer ID       9648 non-null   int64  \n",
            " 2   Invoice Date      9648 non-null   object \n",
            " 3   Region            9641 non-null   object \n",
            " 4   State             9648 non-null   object \n",
            " 5   City              9648 non-null   object \n",
            " 6   Product           9648 non-null   object \n",
            " 7   Price per Unit    9646 non-null   float64\n",
            " 8   Units Sold        9648 non-null   int64  \n",
            " 9   Total Sales       9648 non-null   int64  \n",
            " 10  Operating Profit  9648 non-null   int64  \n",
            " 11  Sales Method      9648 non-null   object \n",
            "dtypes: float64(1), int64(4), object(7)\n",
            "memory usage: 904.6+ KB\n"
          ]
        }
      ],
      "source": [
        "data.info()"
      ]
    },
    {
      "cell_type": "code",
      "execution_count": null,
      "metadata": {
        "id": "kBKkdAKEflU2"
      },
      "outputs": [],
      "source": [
        "data['Invoice Date']= pd.to_datetime(data['Invoice Date'])"
      ]
    },
    {
      "cell_type": "code",
      "execution_count": null,
      "metadata": {
        "colab": {
          "base_uri": "https://localhost:8080/"
        },
        "id": "dHqiA-QZgkuY",
        "outputId": "42773b1d-801b-4180-dc32-a4f179260e5e"
      },
      "outputs": [
        {
          "output_type": "execute_result",
          "data": {
            "text/plain": [
              "0      2020-01-01\n",
              "1      2020-01-02\n",
              "2      2020-01-03\n",
              "3      2020-01-04\n",
              "4      2020-01-05\n",
              "          ...    \n",
              "9643   2021-01-24\n",
              "9644   2021-01-24\n",
              "9645   2021-02-22\n",
              "9646   2021-02-22\n",
              "9647   2021-02-22\n",
              "Name: Invoice Date, Length: 9648, dtype: datetime64[ns]"
            ]
          },
          "metadata": {},
          "execution_count": 20
        }
      ],
      "source": [
        "data['Invoice Date']"
      ]
    },
    {
      "cell_type": "code",
      "execution_count": null,
      "metadata": {
        "id": "YqhBmmSsgmvr"
      },
      "outputs": [],
      "source": [
        "data['Month']=data['Invoice Date'].dt.month\n",
        "data['Year']=data['Invoice Date'].dt.year\n",
        "data.drop('Invoice Date',axis =1 , inplace=True)"
      ]
    },
    {
      "cell_type": "code",
      "execution_count": null,
      "metadata": {
        "colab": {
          "base_uri": "https://localhost:8080/",
          "height": 206
        },
        "id": "zMSPDDi5hbbF",
        "outputId": "935ff06f-898b-46ba-e891-85b2f97277e9"
      },
      "outputs": [
        {
          "output_type": "execute_result",
          "data": {
            "text/plain": [
              "      Retailer  Retailer ID     Region     State      City  \\\n",
              "0  Foot Locker      1185732  Northeast  New York  New York   \n",
              "1  Foot Locker      1185732  Northeast  New York  New York   \n",
              "2  Foot Locker      1185732  Northeast  New York  New York   \n",
              "3  Foot Locker      1185732  Northeast  New York  New York   \n",
              "4  Foot Locker      1185732  Northeast  New York  New York   \n",
              "\n",
              "                     Product  Price per Unit  Units Sold  Total Sales  \\\n",
              "0      Men's Street Footwear            50.0        1200        60000   \n",
              "1    Men's Athletic Footwear            50.0        1000        50000   \n",
              "2    Women's Street Footwear            40.0        1000        40000   \n",
              "3  Women's Athletic Footwear            45.0         850        38250   \n",
              "4              Men's Apparel            60.0         900        54000   \n",
              "\n",
              "   Operating Profit Sales Method  Month  Year  \n",
              "0             30000     In-store      1  2020  \n",
              "1             15000     In-store      1  2020  \n",
              "2             14000     In-store      1  2020  \n",
              "3             13388     In-store      1  2020  \n",
              "4             16200     In-store      1  2020  "
            ],
            "text/html": [
              "\n",
              "  <div id=\"df-7881ab78-f7f0-4616-91af-4a6057b119ea\">\n",
              "    <div class=\"colab-df-container\">\n",
              "      <div>\n",
              "<style scoped>\n",
              "    .dataframe tbody tr th:only-of-type {\n",
              "        vertical-align: middle;\n",
              "    }\n",
              "\n",
              "    .dataframe tbody tr th {\n",
              "        vertical-align: top;\n",
              "    }\n",
              "\n",
              "    .dataframe thead th {\n",
              "        text-align: right;\n",
              "    }\n",
              "</style>\n",
              "<table border=\"1\" class=\"dataframe\">\n",
              "  <thead>\n",
              "    <tr style=\"text-align: right;\">\n",
              "      <th></th>\n",
              "      <th>Retailer</th>\n",
              "      <th>Retailer ID</th>\n",
              "      <th>Region</th>\n",
              "      <th>State</th>\n",
              "      <th>City</th>\n",
              "      <th>Product</th>\n",
              "      <th>Price per Unit</th>\n",
              "      <th>Units Sold</th>\n",
              "      <th>Total Sales</th>\n",
              "      <th>Operating Profit</th>\n",
              "      <th>Sales Method</th>\n",
              "      <th>Month</th>\n",
              "      <th>Year</th>\n",
              "    </tr>\n",
              "  </thead>\n",
              "  <tbody>\n",
              "    <tr>\n",
              "      <th>0</th>\n",
              "      <td>Foot Locker</td>\n",
              "      <td>1185732</td>\n",
              "      <td>Northeast</td>\n",
              "      <td>New York</td>\n",
              "      <td>New York</td>\n",
              "      <td>Men's Street Footwear</td>\n",
              "      <td>50.0</td>\n",
              "      <td>1200</td>\n",
              "      <td>60000</td>\n",
              "      <td>30000</td>\n",
              "      <td>In-store</td>\n",
              "      <td>1</td>\n",
              "      <td>2020</td>\n",
              "    </tr>\n",
              "    <tr>\n",
              "      <th>1</th>\n",
              "      <td>Foot Locker</td>\n",
              "      <td>1185732</td>\n",
              "      <td>Northeast</td>\n",
              "      <td>New York</td>\n",
              "      <td>New York</td>\n",
              "      <td>Men's Athletic Footwear</td>\n",
              "      <td>50.0</td>\n",
              "      <td>1000</td>\n",
              "      <td>50000</td>\n",
              "      <td>15000</td>\n",
              "      <td>In-store</td>\n",
              "      <td>1</td>\n",
              "      <td>2020</td>\n",
              "    </tr>\n",
              "    <tr>\n",
              "      <th>2</th>\n",
              "      <td>Foot Locker</td>\n",
              "      <td>1185732</td>\n",
              "      <td>Northeast</td>\n",
              "      <td>New York</td>\n",
              "      <td>New York</td>\n",
              "      <td>Women's Street Footwear</td>\n",
              "      <td>40.0</td>\n",
              "      <td>1000</td>\n",
              "      <td>40000</td>\n",
              "      <td>14000</td>\n",
              "      <td>In-store</td>\n",
              "      <td>1</td>\n",
              "      <td>2020</td>\n",
              "    </tr>\n",
              "    <tr>\n",
              "      <th>3</th>\n",
              "      <td>Foot Locker</td>\n",
              "      <td>1185732</td>\n",
              "      <td>Northeast</td>\n",
              "      <td>New York</td>\n",
              "      <td>New York</td>\n",
              "      <td>Women's Athletic Footwear</td>\n",
              "      <td>45.0</td>\n",
              "      <td>850</td>\n",
              "      <td>38250</td>\n",
              "      <td>13388</td>\n",
              "      <td>In-store</td>\n",
              "      <td>1</td>\n",
              "      <td>2020</td>\n",
              "    </tr>\n",
              "    <tr>\n",
              "      <th>4</th>\n",
              "      <td>Foot Locker</td>\n",
              "      <td>1185732</td>\n",
              "      <td>Northeast</td>\n",
              "      <td>New York</td>\n",
              "      <td>New York</td>\n",
              "      <td>Men's Apparel</td>\n",
              "      <td>60.0</td>\n",
              "      <td>900</td>\n",
              "      <td>54000</td>\n",
              "      <td>16200</td>\n",
              "      <td>In-store</td>\n",
              "      <td>1</td>\n",
              "      <td>2020</td>\n",
              "    </tr>\n",
              "  </tbody>\n",
              "</table>\n",
              "</div>\n",
              "      <button class=\"colab-df-convert\" onclick=\"convertToInteractive('df-7881ab78-f7f0-4616-91af-4a6057b119ea')\"\n",
              "              title=\"Convert this dataframe to an interactive table.\"\n",
              "              style=\"display:none;\">\n",
              "        \n",
              "  <svg xmlns=\"http://www.w3.org/2000/svg\" height=\"24px\"viewBox=\"0 0 24 24\"\n",
              "       width=\"24px\">\n",
              "    <path d=\"M0 0h24v24H0V0z\" fill=\"none\"/>\n",
              "    <path d=\"M18.56 5.44l.94 2.06.94-2.06 2.06-.94-2.06-.94-.94-2.06-.94 2.06-2.06.94zm-11 1L8.5 8.5l.94-2.06 2.06-.94-2.06-.94L8.5 2.5l-.94 2.06-2.06.94zm10 10l.94 2.06.94-2.06 2.06-.94-2.06-.94-.94-2.06-.94 2.06-2.06.94z\"/><path d=\"M17.41 7.96l-1.37-1.37c-.4-.4-.92-.59-1.43-.59-.52 0-1.04.2-1.43.59L10.3 9.45l-7.72 7.72c-.78.78-.78 2.05 0 2.83L4 21.41c.39.39.9.59 1.41.59.51 0 1.02-.2 1.41-.59l7.78-7.78 2.81-2.81c.8-.78.8-2.07 0-2.86zM5.41 20L4 18.59l7.72-7.72 1.47 1.35L5.41 20z\"/>\n",
              "  </svg>\n",
              "      </button>\n",
              "      \n",
              "  <style>\n",
              "    .colab-df-container {\n",
              "      display:flex;\n",
              "      flex-wrap:wrap;\n",
              "      gap: 12px;\n",
              "    }\n",
              "\n",
              "    .colab-df-convert {\n",
              "      background-color: #E8F0FE;\n",
              "      border: none;\n",
              "      border-radius: 50%;\n",
              "      cursor: pointer;\n",
              "      display: none;\n",
              "      fill: #1967D2;\n",
              "      height: 32px;\n",
              "      padding: 0 0 0 0;\n",
              "      width: 32px;\n",
              "    }\n",
              "\n",
              "    .colab-df-convert:hover {\n",
              "      background-color: #E2EBFA;\n",
              "      box-shadow: 0px 1px 2px rgba(60, 64, 67, 0.3), 0px 1px 3px 1px rgba(60, 64, 67, 0.15);\n",
              "      fill: #174EA6;\n",
              "    }\n",
              "\n",
              "    [theme=dark] .colab-df-convert {\n",
              "      background-color: #3B4455;\n",
              "      fill: #D2E3FC;\n",
              "    }\n",
              "\n",
              "    [theme=dark] .colab-df-convert:hover {\n",
              "      background-color: #434B5C;\n",
              "      box-shadow: 0px 1px 3px 1px rgba(0, 0, 0, 0.15);\n",
              "      filter: drop-shadow(0px 1px 2px rgba(0, 0, 0, 0.3));\n",
              "      fill: #FFFFFF;\n",
              "    }\n",
              "  </style>\n",
              "\n",
              "      <script>\n",
              "        const buttonEl =\n",
              "          document.querySelector('#df-7881ab78-f7f0-4616-91af-4a6057b119ea button.colab-df-convert');\n",
              "        buttonEl.style.display =\n",
              "          google.colab.kernel.accessAllowed ? 'block' : 'none';\n",
              "\n",
              "        async function convertToInteractive(key) {\n",
              "          const element = document.querySelector('#df-7881ab78-f7f0-4616-91af-4a6057b119ea');\n",
              "          const dataTable =\n",
              "            await google.colab.kernel.invokeFunction('convertToInteractive',\n",
              "                                                     [key], {});\n",
              "          if (!dataTable) return;\n",
              "\n",
              "          const docLinkHtml = 'Like what you see? Visit the ' +\n",
              "            '<a target=\"_blank\" href=https://colab.research.google.com/notebooks/data_table.ipynb>data table notebook</a>'\n",
              "            + ' to learn more about interactive tables.';\n",
              "          element.innerHTML = '';\n",
              "          dataTable['output_type'] = 'display_data';\n",
              "          await google.colab.output.renderOutput(dataTable, element);\n",
              "          const docLink = document.createElement('div');\n",
              "          docLink.innerHTML = docLinkHtml;\n",
              "          element.appendChild(docLink);\n",
              "        }\n",
              "      </script>\n",
              "    </div>\n",
              "  </div>\n",
              "  "
            ]
          },
          "metadata": {},
          "execution_count": 22
        }
      ],
      "source": [
        "data.head()"
      ]
    },
    {
      "cell_type": "markdown",
      "source": [
        "## Fill Null Values"
      ],
      "metadata": {
        "id": "CYfr0QT464LE"
      }
    },
    {
      "cell_type": "code",
      "execution_count": null,
      "metadata": {
        "id": "VgLVW8eFh0jU",
        "colab": {
          "base_uri": "https://localhost:8080/"
        },
        "outputId": "b73795ac-f3a7-4a15-f656-643a80b85f44"
      },
      "outputs": [
        {
          "output_type": "execute_result",
          "data": {
            "text/plain": [
              "Retailer            0\n",
              "Retailer ID         0\n",
              "Region              7\n",
              "State               0\n",
              "City                0\n",
              "Product             0\n",
              "Price per Unit      2\n",
              "Units Sold          0\n",
              "Total Sales         0\n",
              "Operating Profit    0\n",
              "Sales Method        0\n",
              "Month               0\n",
              "Year                0\n",
              "dtype: int64"
            ]
          },
          "metadata": {},
          "execution_count": 23
        }
      ],
      "source": [
        "data.isnull().sum()"
      ]
    },
    {
      "cell_type": "code",
      "source": [
        "data[data.Region.isnull()]"
      ],
      "metadata": {
        "colab": {
          "base_uri": "https://localhost:8080/",
          "height": 269
        },
        "id": "V4pigU2s68Cd",
        "outputId": "e63dd40e-9f18-4e60-9fa1-a1ed2f6c63b5"
      },
      "execution_count": null,
      "outputs": [
        {
          "output_type": "execute_result",
          "data": {
            "text/plain": [
              "          Retailer  Retailer ID Region       State           City  \\\n",
              "76   Sports Direct      1197831    NaN       Texas        Houston   \n",
              "81   Sports Direct      1197831    NaN       Texas        Houston   \n",
              "163      West Gear      1128299    NaN  California  San Francisco   \n",
              "168      West Gear      1128299    NaN  California  San Francisco   \n",
              "293    Foot Locker      1185732    NaN    Illinois        Chicago   \n",
              "297    Foot Locker      1185732    NaN    Illinois        Chicago   \n",
              "304    Foot Locker      1185732    NaN    Illinois        Chicago   \n",
              "\n",
              "                       Product  Price per Unit  Units Sold  Total Sales  \\\n",
              "76     Women's Street Footwear            35.0         675        23625   \n",
              "81     Men's Athletic Footwear            40.0         875        35000   \n",
              "163            Women's Apparel            80.0         700        56000   \n",
              "168              Men's Apparel            65.0         550        35750   \n",
              "293  Women's Athletic Footwear            40.0         100         4000   \n",
              "297    Men's Athletic Footwear            50.0         200        10000   \n",
              "304    Women's Street Footwear            40.0         150         6000   \n",
              "\n",
              "     Operating Profit Sales Method  Month  Year  \n",
              "76               8269       Outlet      7  2020  \n",
              "81              12250       Outlet      8  2020  \n",
              "163              8400       Outlet     12  2020  \n",
              "168             19663       Outlet      1  2021  \n",
              "293              1600       Outlet      6  2021  \n",
              "297              3500       Outlet      6  2021  \n",
              "304              2100       Outlet      6  2021  "
            ],
            "text/html": [
              "\n",
              "  <div id=\"df-ce5acef4-a3cd-4db6-bdd8-90360d9efb66\">\n",
              "    <div class=\"colab-df-container\">\n",
              "      <div>\n",
              "<style scoped>\n",
              "    .dataframe tbody tr th:only-of-type {\n",
              "        vertical-align: middle;\n",
              "    }\n",
              "\n",
              "    .dataframe tbody tr th {\n",
              "        vertical-align: top;\n",
              "    }\n",
              "\n",
              "    .dataframe thead th {\n",
              "        text-align: right;\n",
              "    }\n",
              "</style>\n",
              "<table border=\"1\" class=\"dataframe\">\n",
              "  <thead>\n",
              "    <tr style=\"text-align: right;\">\n",
              "      <th></th>\n",
              "      <th>Retailer</th>\n",
              "      <th>Retailer ID</th>\n",
              "      <th>Region</th>\n",
              "      <th>State</th>\n",
              "      <th>City</th>\n",
              "      <th>Product</th>\n",
              "      <th>Price per Unit</th>\n",
              "      <th>Units Sold</th>\n",
              "      <th>Total Sales</th>\n",
              "      <th>Operating Profit</th>\n",
              "      <th>Sales Method</th>\n",
              "      <th>Month</th>\n",
              "      <th>Year</th>\n",
              "    </tr>\n",
              "  </thead>\n",
              "  <tbody>\n",
              "    <tr>\n",
              "      <th>76</th>\n",
              "      <td>Sports Direct</td>\n",
              "      <td>1197831</td>\n",
              "      <td>NaN</td>\n",
              "      <td>Texas</td>\n",
              "      <td>Houston</td>\n",
              "      <td>Women's Street Footwear</td>\n",
              "      <td>35.0</td>\n",
              "      <td>675</td>\n",
              "      <td>23625</td>\n",
              "      <td>8269</td>\n",
              "      <td>Outlet</td>\n",
              "      <td>7</td>\n",
              "      <td>2020</td>\n",
              "    </tr>\n",
              "    <tr>\n",
              "      <th>81</th>\n",
              "      <td>Sports Direct</td>\n",
              "      <td>1197831</td>\n",
              "      <td>NaN</td>\n",
              "      <td>Texas</td>\n",
              "      <td>Houston</td>\n",
              "      <td>Men's Athletic Footwear</td>\n",
              "      <td>40.0</td>\n",
              "      <td>875</td>\n",
              "      <td>35000</td>\n",
              "      <td>12250</td>\n",
              "      <td>Outlet</td>\n",
              "      <td>8</td>\n",
              "      <td>2020</td>\n",
              "    </tr>\n",
              "    <tr>\n",
              "      <th>163</th>\n",
              "      <td>West Gear</td>\n",
              "      <td>1128299</td>\n",
              "      <td>NaN</td>\n",
              "      <td>California</td>\n",
              "      <td>San Francisco</td>\n",
              "      <td>Women's Apparel</td>\n",
              "      <td>80.0</td>\n",
              "      <td>700</td>\n",
              "      <td>56000</td>\n",
              "      <td>8400</td>\n",
              "      <td>Outlet</td>\n",
              "      <td>12</td>\n",
              "      <td>2020</td>\n",
              "    </tr>\n",
              "    <tr>\n",
              "      <th>168</th>\n",
              "      <td>West Gear</td>\n",
              "      <td>1128299</td>\n",
              "      <td>NaN</td>\n",
              "      <td>California</td>\n",
              "      <td>San Francisco</td>\n",
              "      <td>Men's Apparel</td>\n",
              "      <td>65.0</td>\n",
              "      <td>550</td>\n",
              "      <td>35750</td>\n",
              "      <td>19663</td>\n",
              "      <td>Outlet</td>\n",
              "      <td>1</td>\n",
              "      <td>2021</td>\n",
              "    </tr>\n",
              "    <tr>\n",
              "      <th>293</th>\n",
              "      <td>Foot Locker</td>\n",
              "      <td>1185732</td>\n",
              "      <td>NaN</td>\n",
              "      <td>Illinois</td>\n",
              "      <td>Chicago</td>\n",
              "      <td>Women's Athletic Footwear</td>\n",
              "      <td>40.0</td>\n",
              "      <td>100</td>\n",
              "      <td>4000</td>\n",
              "      <td>1600</td>\n",
              "      <td>Outlet</td>\n",
              "      <td>6</td>\n",
              "      <td>2021</td>\n",
              "    </tr>\n",
              "    <tr>\n",
              "      <th>297</th>\n",
              "      <td>Foot Locker</td>\n",
              "      <td>1185732</td>\n",
              "      <td>NaN</td>\n",
              "      <td>Illinois</td>\n",
              "      <td>Chicago</td>\n",
              "      <td>Men's Athletic Footwear</td>\n",
              "      <td>50.0</td>\n",
              "      <td>200</td>\n",
              "      <td>10000</td>\n",
              "      <td>3500</td>\n",
              "      <td>Outlet</td>\n",
              "      <td>6</td>\n",
              "      <td>2021</td>\n",
              "    </tr>\n",
              "    <tr>\n",
              "      <th>304</th>\n",
              "      <td>Foot Locker</td>\n",
              "      <td>1185732</td>\n",
              "      <td>NaN</td>\n",
              "      <td>Illinois</td>\n",
              "      <td>Chicago</td>\n",
              "      <td>Women's Street Footwear</td>\n",
              "      <td>40.0</td>\n",
              "      <td>150</td>\n",
              "      <td>6000</td>\n",
              "      <td>2100</td>\n",
              "      <td>Outlet</td>\n",
              "      <td>6</td>\n",
              "      <td>2021</td>\n",
              "    </tr>\n",
              "  </tbody>\n",
              "</table>\n",
              "</div>\n",
              "      <button class=\"colab-df-convert\" onclick=\"convertToInteractive('df-ce5acef4-a3cd-4db6-bdd8-90360d9efb66')\"\n",
              "              title=\"Convert this dataframe to an interactive table.\"\n",
              "              style=\"display:none;\">\n",
              "        \n",
              "  <svg xmlns=\"http://www.w3.org/2000/svg\" height=\"24px\"viewBox=\"0 0 24 24\"\n",
              "       width=\"24px\">\n",
              "    <path d=\"M0 0h24v24H0V0z\" fill=\"none\"/>\n",
              "    <path d=\"M18.56 5.44l.94 2.06.94-2.06 2.06-.94-2.06-.94-.94-2.06-.94 2.06-2.06.94zm-11 1L8.5 8.5l.94-2.06 2.06-.94-2.06-.94L8.5 2.5l-.94 2.06-2.06.94zm10 10l.94 2.06.94-2.06 2.06-.94-2.06-.94-.94-2.06-.94 2.06-2.06.94z\"/><path d=\"M17.41 7.96l-1.37-1.37c-.4-.4-.92-.59-1.43-.59-.52 0-1.04.2-1.43.59L10.3 9.45l-7.72 7.72c-.78.78-.78 2.05 0 2.83L4 21.41c.39.39.9.59 1.41.59.51 0 1.02-.2 1.41-.59l7.78-7.78 2.81-2.81c.8-.78.8-2.07 0-2.86zM5.41 20L4 18.59l7.72-7.72 1.47 1.35L5.41 20z\"/>\n",
              "  </svg>\n",
              "      </button>\n",
              "      \n",
              "  <style>\n",
              "    .colab-df-container {\n",
              "      display:flex;\n",
              "      flex-wrap:wrap;\n",
              "      gap: 12px;\n",
              "    }\n",
              "\n",
              "    .colab-df-convert {\n",
              "      background-color: #E8F0FE;\n",
              "      border: none;\n",
              "      border-radius: 50%;\n",
              "      cursor: pointer;\n",
              "      display: none;\n",
              "      fill: #1967D2;\n",
              "      height: 32px;\n",
              "      padding: 0 0 0 0;\n",
              "      width: 32px;\n",
              "    }\n",
              "\n",
              "    .colab-df-convert:hover {\n",
              "      background-color: #E2EBFA;\n",
              "      box-shadow: 0px 1px 2px rgba(60, 64, 67, 0.3), 0px 1px 3px 1px rgba(60, 64, 67, 0.15);\n",
              "      fill: #174EA6;\n",
              "    }\n",
              "\n",
              "    [theme=dark] .colab-df-convert {\n",
              "      background-color: #3B4455;\n",
              "      fill: #D2E3FC;\n",
              "    }\n",
              "\n",
              "    [theme=dark] .colab-df-convert:hover {\n",
              "      background-color: #434B5C;\n",
              "      box-shadow: 0px 1px 3px 1px rgba(0, 0, 0, 0.15);\n",
              "      filter: drop-shadow(0px 1px 2px rgba(0, 0, 0, 0.3));\n",
              "      fill: #FFFFFF;\n",
              "    }\n",
              "  </style>\n",
              "\n",
              "      <script>\n",
              "        const buttonEl =\n",
              "          document.querySelector('#df-ce5acef4-a3cd-4db6-bdd8-90360d9efb66 button.colab-df-convert');\n",
              "        buttonEl.style.display =\n",
              "          google.colab.kernel.accessAllowed ? 'block' : 'none';\n",
              "\n",
              "        async function convertToInteractive(key) {\n",
              "          const element = document.querySelector('#df-ce5acef4-a3cd-4db6-bdd8-90360d9efb66');\n",
              "          const dataTable =\n",
              "            await google.colab.kernel.invokeFunction('convertToInteractive',\n",
              "                                                     [key], {});\n",
              "          if (!dataTable) return;\n",
              "\n",
              "          const docLinkHtml = 'Like what you see? Visit the ' +\n",
              "            '<a target=\"_blank\" href=https://colab.research.google.com/notebooks/data_table.ipynb>data table notebook</a>'\n",
              "            + ' to learn more about interactive tables.';\n",
              "          element.innerHTML = '';\n",
              "          dataTable['output_type'] = 'display_data';\n",
              "          await google.colab.output.renderOutput(dataTable, element);\n",
              "          const docLink = document.createElement('div');\n",
              "          docLink.innerHTML = docLinkHtml;\n",
              "          element.appendChild(docLink);\n",
              "        }\n",
              "      </script>\n",
              "    </div>\n",
              "  </div>\n",
              "  "
            ]
          },
          "metadata": {},
          "execution_count": 24
        }
      ]
    },
    {
      "cell_type": "code",
      "source": [
        "data.iloc[76,2]=\"South\"\n",
        "data.iloc[81,2]=\"South\"\n",
        "data.iloc[163,2]=\"West\"\n",
        "data.iloc[168,2]=\"West\"\n",
        "data.iloc[293,2]=\"Midwest\"\n",
        "data.iloc[297,2]=\"Midwest\"\n",
        "data.iloc[304,2]=\"Midwest\""
      ],
      "metadata": {
        "id": "6sJrvpDQ7v5_"
      },
      "execution_count": null,
      "outputs": []
    },
    {
      "cell_type": "code",
      "source": [
        "data[data['Price per Unit'].isnull()]"
      ],
      "metadata": {
        "colab": {
          "base_uri": "https://localhost:8080/",
          "height": 112
        },
        "id": "tbPb5Ckb9Qt9",
        "outputId": "c7e0843c-d5fd-4290-b4d1-2dd4c9707d74"
      },
      "execution_count": null,
      "outputs": [
        {
          "output_type": "execute_result",
          "data": {
            "text/plain": [
              "         Retailer  Retailer ID     Region     State      City        Product  \\\n",
              "16    Foot Locker      1185732  Northeast  New York  New York  Men's Apparel   \n",
              "78  Sports Direct      1197831      South     Texas   Houston  Men's Apparel   \n",
              "\n",
              "    Price per Unit  Units Sold  Total Sales  Operating Profit Sales Method  \\\n",
              "16             NaN         850        51000             15300       Outlet   \n",
              "78             NaN         500        20000              6000       Outlet   \n",
              "\n",
              "    Month  Year  \n",
              "16      1  2020  \n",
              "78      7  2020  "
            ],
            "text/html": [
              "\n",
              "  <div id=\"df-b39ed7a9-be01-4be0-8af2-5684da7390a7\">\n",
              "    <div class=\"colab-df-container\">\n",
              "      <div>\n",
              "<style scoped>\n",
              "    .dataframe tbody tr th:only-of-type {\n",
              "        vertical-align: middle;\n",
              "    }\n",
              "\n",
              "    .dataframe tbody tr th {\n",
              "        vertical-align: top;\n",
              "    }\n",
              "\n",
              "    .dataframe thead th {\n",
              "        text-align: right;\n",
              "    }\n",
              "</style>\n",
              "<table border=\"1\" class=\"dataframe\">\n",
              "  <thead>\n",
              "    <tr style=\"text-align: right;\">\n",
              "      <th></th>\n",
              "      <th>Retailer</th>\n",
              "      <th>Retailer ID</th>\n",
              "      <th>Region</th>\n",
              "      <th>State</th>\n",
              "      <th>City</th>\n",
              "      <th>Product</th>\n",
              "      <th>Price per Unit</th>\n",
              "      <th>Units Sold</th>\n",
              "      <th>Total Sales</th>\n",
              "      <th>Operating Profit</th>\n",
              "      <th>Sales Method</th>\n",
              "      <th>Month</th>\n",
              "      <th>Year</th>\n",
              "    </tr>\n",
              "  </thead>\n",
              "  <tbody>\n",
              "    <tr>\n",
              "      <th>16</th>\n",
              "      <td>Foot Locker</td>\n",
              "      <td>1185732</td>\n",
              "      <td>Northeast</td>\n",
              "      <td>New York</td>\n",
              "      <td>New York</td>\n",
              "      <td>Men's Apparel</td>\n",
              "      <td>NaN</td>\n",
              "      <td>850</td>\n",
              "      <td>51000</td>\n",
              "      <td>15300</td>\n",
              "      <td>Outlet</td>\n",
              "      <td>1</td>\n",
              "      <td>2020</td>\n",
              "    </tr>\n",
              "    <tr>\n",
              "      <th>78</th>\n",
              "      <td>Sports Direct</td>\n",
              "      <td>1197831</td>\n",
              "      <td>South</td>\n",
              "      <td>Texas</td>\n",
              "      <td>Houston</td>\n",
              "      <td>Men's Apparel</td>\n",
              "      <td>NaN</td>\n",
              "      <td>500</td>\n",
              "      <td>20000</td>\n",
              "      <td>6000</td>\n",
              "      <td>Outlet</td>\n",
              "      <td>7</td>\n",
              "      <td>2020</td>\n",
              "    </tr>\n",
              "  </tbody>\n",
              "</table>\n",
              "</div>\n",
              "      <button class=\"colab-df-convert\" onclick=\"convertToInteractive('df-b39ed7a9-be01-4be0-8af2-5684da7390a7')\"\n",
              "              title=\"Convert this dataframe to an interactive table.\"\n",
              "              style=\"display:none;\">\n",
              "        \n",
              "  <svg xmlns=\"http://www.w3.org/2000/svg\" height=\"24px\"viewBox=\"0 0 24 24\"\n",
              "       width=\"24px\">\n",
              "    <path d=\"M0 0h24v24H0V0z\" fill=\"none\"/>\n",
              "    <path d=\"M18.56 5.44l.94 2.06.94-2.06 2.06-.94-2.06-.94-.94-2.06-.94 2.06-2.06.94zm-11 1L8.5 8.5l.94-2.06 2.06-.94-2.06-.94L8.5 2.5l-.94 2.06-2.06.94zm10 10l.94 2.06.94-2.06 2.06-.94-2.06-.94-.94-2.06-.94 2.06-2.06.94z\"/><path d=\"M17.41 7.96l-1.37-1.37c-.4-.4-.92-.59-1.43-.59-.52 0-1.04.2-1.43.59L10.3 9.45l-7.72 7.72c-.78.78-.78 2.05 0 2.83L4 21.41c.39.39.9.59 1.41.59.51 0 1.02-.2 1.41-.59l7.78-7.78 2.81-2.81c.8-.78.8-2.07 0-2.86zM5.41 20L4 18.59l7.72-7.72 1.47 1.35L5.41 20z\"/>\n",
              "  </svg>\n",
              "      </button>\n",
              "      \n",
              "  <style>\n",
              "    .colab-df-container {\n",
              "      display:flex;\n",
              "      flex-wrap:wrap;\n",
              "      gap: 12px;\n",
              "    }\n",
              "\n",
              "    .colab-df-convert {\n",
              "      background-color: #E8F0FE;\n",
              "      border: none;\n",
              "      border-radius: 50%;\n",
              "      cursor: pointer;\n",
              "      display: none;\n",
              "      fill: #1967D2;\n",
              "      height: 32px;\n",
              "      padding: 0 0 0 0;\n",
              "      width: 32px;\n",
              "    }\n",
              "\n",
              "    .colab-df-convert:hover {\n",
              "      background-color: #E2EBFA;\n",
              "      box-shadow: 0px 1px 2px rgba(60, 64, 67, 0.3), 0px 1px 3px 1px rgba(60, 64, 67, 0.15);\n",
              "      fill: #174EA6;\n",
              "    }\n",
              "\n",
              "    [theme=dark] .colab-df-convert {\n",
              "      background-color: #3B4455;\n",
              "      fill: #D2E3FC;\n",
              "    }\n",
              "\n",
              "    [theme=dark] .colab-df-convert:hover {\n",
              "      background-color: #434B5C;\n",
              "      box-shadow: 0px 1px 3px 1px rgba(0, 0, 0, 0.15);\n",
              "      filter: drop-shadow(0px 1px 2px rgba(0, 0, 0, 0.3));\n",
              "      fill: #FFFFFF;\n",
              "    }\n",
              "  </style>\n",
              "\n",
              "      <script>\n",
              "        const buttonEl =\n",
              "          document.querySelector('#df-b39ed7a9-be01-4be0-8af2-5684da7390a7 button.colab-df-convert');\n",
              "        buttonEl.style.display =\n",
              "          google.colab.kernel.accessAllowed ? 'block' : 'none';\n",
              "\n",
              "        async function convertToInteractive(key) {\n",
              "          const element = document.querySelector('#df-b39ed7a9-be01-4be0-8af2-5684da7390a7');\n",
              "          const dataTable =\n",
              "            await google.colab.kernel.invokeFunction('convertToInteractive',\n",
              "                                                     [key], {});\n",
              "          if (!dataTable) return;\n",
              "\n",
              "          const docLinkHtml = 'Like what you see? Visit the ' +\n",
              "            '<a target=\"_blank\" href=https://colab.research.google.com/notebooks/data_table.ipynb>data table notebook</a>'\n",
              "            + ' to learn more about interactive tables.';\n",
              "          element.innerHTML = '';\n",
              "          dataTable['output_type'] = 'display_data';\n",
              "          await google.colab.output.renderOutput(dataTable, element);\n",
              "          const docLink = document.createElement('div');\n",
              "          docLink.innerHTML = docLinkHtml;\n",
              "          element.appendChild(docLink);\n",
              "        }\n",
              "      </script>\n",
              "    </div>\n",
              "  </div>\n",
              "  "
            ]
          },
          "metadata": {},
          "execution_count": 26
        }
      ]
    },
    {
      "cell_type": "code",
      "source": [
        "data.iloc[16,6]=60.0\n",
        "data.iloc[78,6]=40.0\n"
      ],
      "metadata": {
        "id": "cTSRoidD9c5y"
      },
      "execution_count": null,
      "outputs": []
    },
    {
      "cell_type": "code",
      "source": [
        "data.isnull().sum()"
      ],
      "metadata": {
        "colab": {
          "base_uri": "https://localhost:8080/"
        },
        "id": "HnVhM2lo-Lrx",
        "outputId": "bdd22084-242d-4c81-9f07-813f8f2d6818"
      },
      "execution_count": null,
      "outputs": [
        {
          "output_type": "execute_result",
          "data": {
            "text/plain": [
              "Retailer            0\n",
              "Retailer ID         0\n",
              "Region              0\n",
              "State               0\n",
              "City                0\n",
              "Product             0\n",
              "Price per Unit      0\n",
              "Units Sold          0\n",
              "Total Sales         0\n",
              "Operating Profit    0\n",
              "Sales Method        0\n",
              "Month               0\n",
              "Year                0\n",
              "dtype: int64"
            ]
          },
          "metadata": {},
          "execution_count": 28
        }
      ]
    },
    {
      "cell_type": "code",
      "source": [
        "data['Total Sales']=data['Units Sold']*data['Price per Unit']"
      ],
      "metadata": {
        "id": "9pIsaGkzJ9_8"
      },
      "execution_count": null,
      "outputs": []
    },
    {
      "cell_type": "markdown",
      "source": [
        "Done"
      ],
      "metadata": {
        "id": "KO9V9D4V-nRj"
      }
    },
    {
      "cell_type": "markdown",
      "source": [
        "Total Sales Information for each region"
      ],
      "metadata": {
        "id": "fYAoKxdNZUpo"
      }
    },
    {
      "cell_type": "code",
      "source": [
        "data.groupby('Region')['Total Sales'].agg(['count','mean','min','max','sum'])"
      ],
      "metadata": {
        "id": "LvkujaLo-lG7",
        "colab": {
          "base_uri": "https://localhost:8080/",
          "height": 237
        },
        "outputId": "1eb5bdc2-2fc2-41f2-e79d-095d3e5c9e05"
      },
      "execution_count": null,
      "outputs": [
        {
          "output_type": "execute_result",
          "data": {
            "text/plain": [
              "           count          mean    min      max         sum\n",
              "Region                                                    \n",
              "Midwest     1872   8907.283120    0.0  61875.0  16674434.0\n",
              "Northeast   2376  10554.826178  160.0  78000.0  25078267.0\n",
              "South       1728  11923.238426  506.0  82500.0  20603356.0\n",
              "Southeast   1224  17462.774510  754.0  82500.0  21374436.0\n",
              "West        2448  14884.051062  735.0  73500.0  36436157.0"
            ],
            "text/html": [
              "\n",
              "  <div id=\"df-67835b59-e58a-4c45-886b-db5ebfdd3ed2\">\n",
              "    <div class=\"colab-df-container\">\n",
              "      <div>\n",
              "<style scoped>\n",
              "    .dataframe tbody tr th:only-of-type {\n",
              "        vertical-align: middle;\n",
              "    }\n",
              "\n",
              "    .dataframe tbody tr th {\n",
              "        vertical-align: top;\n",
              "    }\n",
              "\n",
              "    .dataframe thead th {\n",
              "        text-align: right;\n",
              "    }\n",
              "</style>\n",
              "<table border=\"1\" class=\"dataframe\">\n",
              "  <thead>\n",
              "    <tr style=\"text-align: right;\">\n",
              "      <th></th>\n",
              "      <th>count</th>\n",
              "      <th>mean</th>\n",
              "      <th>min</th>\n",
              "      <th>max</th>\n",
              "      <th>sum</th>\n",
              "    </tr>\n",
              "    <tr>\n",
              "      <th>Region</th>\n",
              "      <th></th>\n",
              "      <th></th>\n",
              "      <th></th>\n",
              "      <th></th>\n",
              "      <th></th>\n",
              "    </tr>\n",
              "  </thead>\n",
              "  <tbody>\n",
              "    <tr>\n",
              "      <th>Midwest</th>\n",
              "      <td>1872</td>\n",
              "      <td>8907.283120</td>\n",
              "      <td>0.0</td>\n",
              "      <td>61875.0</td>\n",
              "      <td>16674434.0</td>\n",
              "    </tr>\n",
              "    <tr>\n",
              "      <th>Northeast</th>\n",
              "      <td>2376</td>\n",
              "      <td>10554.826178</td>\n",
              "      <td>160.0</td>\n",
              "      <td>78000.0</td>\n",
              "      <td>25078267.0</td>\n",
              "    </tr>\n",
              "    <tr>\n",
              "      <th>South</th>\n",
              "      <td>1728</td>\n",
              "      <td>11923.238426</td>\n",
              "      <td>506.0</td>\n",
              "      <td>82500.0</td>\n",
              "      <td>20603356.0</td>\n",
              "    </tr>\n",
              "    <tr>\n",
              "      <th>Southeast</th>\n",
              "      <td>1224</td>\n",
              "      <td>17462.774510</td>\n",
              "      <td>754.0</td>\n",
              "      <td>82500.0</td>\n",
              "      <td>21374436.0</td>\n",
              "    </tr>\n",
              "    <tr>\n",
              "      <th>West</th>\n",
              "      <td>2448</td>\n",
              "      <td>14884.051062</td>\n",
              "      <td>735.0</td>\n",
              "      <td>73500.0</td>\n",
              "      <td>36436157.0</td>\n",
              "    </tr>\n",
              "  </tbody>\n",
              "</table>\n",
              "</div>\n",
              "      <button class=\"colab-df-convert\" onclick=\"convertToInteractive('df-67835b59-e58a-4c45-886b-db5ebfdd3ed2')\"\n",
              "              title=\"Convert this dataframe to an interactive table.\"\n",
              "              style=\"display:none;\">\n",
              "        \n",
              "  <svg xmlns=\"http://www.w3.org/2000/svg\" height=\"24px\"viewBox=\"0 0 24 24\"\n",
              "       width=\"24px\">\n",
              "    <path d=\"M0 0h24v24H0V0z\" fill=\"none\"/>\n",
              "    <path d=\"M18.56 5.44l.94 2.06.94-2.06 2.06-.94-2.06-.94-.94-2.06-.94 2.06-2.06.94zm-11 1L8.5 8.5l.94-2.06 2.06-.94-2.06-.94L8.5 2.5l-.94 2.06-2.06.94zm10 10l.94 2.06.94-2.06 2.06-.94-2.06-.94-.94-2.06-.94 2.06-2.06.94z\"/><path d=\"M17.41 7.96l-1.37-1.37c-.4-.4-.92-.59-1.43-.59-.52 0-1.04.2-1.43.59L10.3 9.45l-7.72 7.72c-.78.78-.78 2.05 0 2.83L4 21.41c.39.39.9.59 1.41.59.51 0 1.02-.2 1.41-.59l7.78-7.78 2.81-2.81c.8-.78.8-2.07 0-2.86zM5.41 20L4 18.59l7.72-7.72 1.47 1.35L5.41 20z\"/>\n",
              "  </svg>\n",
              "      </button>\n",
              "      \n",
              "  <style>\n",
              "    .colab-df-container {\n",
              "      display:flex;\n",
              "      flex-wrap:wrap;\n",
              "      gap: 12px;\n",
              "    }\n",
              "\n",
              "    .colab-df-convert {\n",
              "      background-color: #E8F0FE;\n",
              "      border: none;\n",
              "      border-radius: 50%;\n",
              "      cursor: pointer;\n",
              "      display: none;\n",
              "      fill: #1967D2;\n",
              "      height: 32px;\n",
              "      padding: 0 0 0 0;\n",
              "      width: 32px;\n",
              "    }\n",
              "\n",
              "    .colab-df-convert:hover {\n",
              "      background-color: #E2EBFA;\n",
              "      box-shadow: 0px 1px 2px rgba(60, 64, 67, 0.3), 0px 1px 3px 1px rgba(60, 64, 67, 0.15);\n",
              "      fill: #174EA6;\n",
              "    }\n",
              "\n",
              "    [theme=dark] .colab-df-convert {\n",
              "      background-color: #3B4455;\n",
              "      fill: #D2E3FC;\n",
              "    }\n",
              "\n",
              "    [theme=dark] .colab-df-convert:hover {\n",
              "      background-color: #434B5C;\n",
              "      box-shadow: 0px 1px 3px 1px rgba(0, 0, 0, 0.15);\n",
              "      filter: drop-shadow(0px 1px 2px rgba(0, 0, 0, 0.3));\n",
              "      fill: #FFFFFF;\n",
              "    }\n",
              "  </style>\n",
              "\n",
              "      <script>\n",
              "        const buttonEl =\n",
              "          document.querySelector('#df-67835b59-e58a-4c45-886b-db5ebfdd3ed2 button.colab-df-convert');\n",
              "        buttonEl.style.display =\n",
              "          google.colab.kernel.accessAllowed ? 'block' : 'none';\n",
              "\n",
              "        async function convertToInteractive(key) {\n",
              "          const element = document.querySelector('#df-67835b59-e58a-4c45-886b-db5ebfdd3ed2');\n",
              "          const dataTable =\n",
              "            await google.colab.kernel.invokeFunction('convertToInteractive',\n",
              "                                                     [key], {});\n",
              "          if (!dataTable) return;\n",
              "\n",
              "          const docLinkHtml = 'Like what you see? Visit the ' +\n",
              "            '<a target=\"_blank\" href=https://colab.research.google.com/notebooks/data_table.ipynb>data table notebook</a>'\n",
              "            + ' to learn more about interactive tables.';\n",
              "          element.innerHTML = '';\n",
              "          dataTable['output_type'] = 'display_data';\n",
              "          await google.colab.output.renderOutput(dataTable, element);\n",
              "          const docLink = document.createElement('div');\n",
              "          docLink.innerHTML = docLinkHtml;\n",
              "          element.appendChild(docLink);\n",
              "        }\n",
              "      </script>\n",
              "    </div>\n",
              "  </div>\n",
              "  "
            ]
          },
          "metadata": {},
          "execution_count": 30
        }
      ]
    },
    {
      "cell_type": "markdown",
      "source": [
        "average price for each product for regions"
      ],
      "metadata": {
        "id": "syfe47z_1UUn"
      }
    },
    {
      "cell_type": "code",
      "source": [
        "data.groupby(['Region','Product'])['Price per Unit'].mean()"
      ],
      "metadata": {
        "colab": {
          "base_uri": "https://localhost:8080/"
        },
        "id": "6lR4EtiZaC_9",
        "outputId": "a3a63859-a611-4b05-dfea-c27a849d2c83"
      },
      "execution_count": null,
      "outputs": [
        {
          "output_type": "execute_result",
          "data": {
            "text/plain": [
              "Region     Product                  \n",
              "Midwest    Men's Apparel                47.144231\n",
              "           Men's Athletic Footwear      38.137821\n",
              "           Men's Street Footwear        41.810897\n",
              "           Women's Apparel              47.455128\n",
              "           Women's Athletic Footwear    34.544872\n",
              "           Women's Street Footwear      33.080128\n",
              "Northeast  Men's Apparel                52.450633\n",
              "           Men's Athletic Footwear      44.941919\n",
              "           Men's Street Footwear        48.727273\n",
              "           Men's aparel                 60.000000\n",
              "           Women's Apparel              52.388889\n",
              "           Women's Athletic Footwear    41.492424\n",
              "           Women's Street Footwear      40.128788\n",
              "South      Men's Apparel                42.798611\n",
              "           Men's Athletic Footwear      36.590278\n",
              "           Men's Street Footwear        35.263889\n",
              "           Women's Apparel              43.538194\n",
              "           Women's Athletic Footwear    36.635417\n",
              "           Women's Street Footwear      34.593750\n",
              "Southeast  Men's Apparel                55.392157\n",
              "           Men's Athletic Footwear      48.779412\n",
              "           Men's Street Footwear        48.573529\n",
              "           Women's Apparel              57.264706\n",
              "           Women's Athletic Footwear    46.000000\n",
              "           Women's Street Footwear      45.088235\n",
              "West       Men's Apparel                53.458128\n",
              "           Men's Athletic Footwear      49.512195\n",
              "           Men's Street Footwear        45.890244\n",
              "           Women's Apparel              56.865196\n",
              "           Women's Athletic Footwear    46.509852\n",
              "           Women's Street Footwear      47.433824\n",
              "Name: Price per Unit, dtype: float64"
            ]
          },
          "metadata": {},
          "execution_count": 31
        }
      ]
    },
    {
      "cell_type": "markdown",
      "source": [
        "let's see which method of sale is most"
      ],
      "metadata": {
        "id": "Yg_3vxxV1wNY"
      }
    },
    {
      "cell_type": "code",
      "source": [
        "data.groupby('Sales Method')['Total Sales'].agg(['count','sum'])"
      ],
      "metadata": {
        "colab": {
          "base_uri": "https://localhost:8080/",
          "height": 175
        },
        "id": "rkRcVnd00q03",
        "outputId": "d6f9d850-d794-4e33-c6aa-3f587727b2d2"
      },
      "execution_count": null,
      "outputs": [
        {
          "output_type": "execute_result",
          "data": {
            "text/plain": [
              "              count         sum\n",
              "Sales Method                   \n",
              "In-store       1740  35664375.0\n",
              "Online         4889  44965657.0\n",
              "Outlet         3019  39536618.0"
            ],
            "text/html": [
              "\n",
              "  <div id=\"df-77895ed5-09d8-4eb5-8a8c-8db9c7075e99\">\n",
              "    <div class=\"colab-df-container\">\n",
              "      <div>\n",
              "<style scoped>\n",
              "    .dataframe tbody tr th:only-of-type {\n",
              "        vertical-align: middle;\n",
              "    }\n",
              "\n",
              "    .dataframe tbody tr th {\n",
              "        vertical-align: top;\n",
              "    }\n",
              "\n",
              "    .dataframe thead th {\n",
              "        text-align: right;\n",
              "    }\n",
              "</style>\n",
              "<table border=\"1\" class=\"dataframe\">\n",
              "  <thead>\n",
              "    <tr style=\"text-align: right;\">\n",
              "      <th></th>\n",
              "      <th>count</th>\n",
              "      <th>sum</th>\n",
              "    </tr>\n",
              "    <tr>\n",
              "      <th>Sales Method</th>\n",
              "      <th></th>\n",
              "      <th></th>\n",
              "    </tr>\n",
              "  </thead>\n",
              "  <tbody>\n",
              "    <tr>\n",
              "      <th>In-store</th>\n",
              "      <td>1740</td>\n",
              "      <td>35664375.0</td>\n",
              "    </tr>\n",
              "    <tr>\n",
              "      <th>Online</th>\n",
              "      <td>4889</td>\n",
              "      <td>44965657.0</td>\n",
              "    </tr>\n",
              "    <tr>\n",
              "      <th>Outlet</th>\n",
              "      <td>3019</td>\n",
              "      <td>39536618.0</td>\n",
              "    </tr>\n",
              "  </tbody>\n",
              "</table>\n",
              "</div>\n",
              "      <button class=\"colab-df-convert\" onclick=\"convertToInteractive('df-77895ed5-09d8-4eb5-8a8c-8db9c7075e99')\"\n",
              "              title=\"Convert this dataframe to an interactive table.\"\n",
              "              style=\"display:none;\">\n",
              "        \n",
              "  <svg xmlns=\"http://www.w3.org/2000/svg\" height=\"24px\"viewBox=\"0 0 24 24\"\n",
              "       width=\"24px\">\n",
              "    <path d=\"M0 0h24v24H0V0z\" fill=\"none\"/>\n",
              "    <path d=\"M18.56 5.44l.94 2.06.94-2.06 2.06-.94-2.06-.94-.94-2.06-.94 2.06-2.06.94zm-11 1L8.5 8.5l.94-2.06 2.06-.94-2.06-.94L8.5 2.5l-.94 2.06-2.06.94zm10 10l.94 2.06.94-2.06 2.06-.94-2.06-.94-.94-2.06-.94 2.06-2.06.94z\"/><path d=\"M17.41 7.96l-1.37-1.37c-.4-.4-.92-.59-1.43-.59-.52 0-1.04.2-1.43.59L10.3 9.45l-7.72 7.72c-.78.78-.78 2.05 0 2.83L4 21.41c.39.39.9.59 1.41.59.51 0 1.02-.2 1.41-.59l7.78-7.78 2.81-2.81c.8-.78.8-2.07 0-2.86zM5.41 20L4 18.59l7.72-7.72 1.47 1.35L5.41 20z\"/>\n",
              "  </svg>\n",
              "      </button>\n",
              "      \n",
              "  <style>\n",
              "    .colab-df-container {\n",
              "      display:flex;\n",
              "      flex-wrap:wrap;\n",
              "      gap: 12px;\n",
              "    }\n",
              "\n",
              "    .colab-df-convert {\n",
              "      background-color: #E8F0FE;\n",
              "      border: none;\n",
              "      border-radius: 50%;\n",
              "      cursor: pointer;\n",
              "      display: none;\n",
              "      fill: #1967D2;\n",
              "      height: 32px;\n",
              "      padding: 0 0 0 0;\n",
              "      width: 32px;\n",
              "    }\n",
              "\n",
              "    .colab-df-convert:hover {\n",
              "      background-color: #E2EBFA;\n",
              "      box-shadow: 0px 1px 2px rgba(60, 64, 67, 0.3), 0px 1px 3px 1px rgba(60, 64, 67, 0.15);\n",
              "      fill: #174EA6;\n",
              "    }\n",
              "\n",
              "    [theme=dark] .colab-df-convert {\n",
              "      background-color: #3B4455;\n",
              "      fill: #D2E3FC;\n",
              "    }\n",
              "\n",
              "    [theme=dark] .colab-df-convert:hover {\n",
              "      background-color: #434B5C;\n",
              "      box-shadow: 0px 1px 3px 1px rgba(0, 0, 0, 0.15);\n",
              "      filter: drop-shadow(0px 1px 2px rgba(0, 0, 0, 0.3));\n",
              "      fill: #FFFFFF;\n",
              "    }\n",
              "  </style>\n",
              "\n",
              "      <script>\n",
              "        const buttonEl =\n",
              "          document.querySelector('#df-77895ed5-09d8-4eb5-8a8c-8db9c7075e99 button.colab-df-convert');\n",
              "        buttonEl.style.display =\n",
              "          google.colab.kernel.accessAllowed ? 'block' : 'none';\n",
              "\n",
              "        async function convertToInteractive(key) {\n",
              "          const element = document.querySelector('#df-77895ed5-09d8-4eb5-8a8c-8db9c7075e99');\n",
              "          const dataTable =\n",
              "            await google.colab.kernel.invokeFunction('convertToInteractive',\n",
              "                                                     [key], {});\n",
              "          if (!dataTable) return;\n",
              "\n",
              "          const docLinkHtml = 'Like what you see? Visit the ' +\n",
              "            '<a target=\"_blank\" href=https://colab.research.google.com/notebooks/data_table.ipynb>data table notebook</a>'\n",
              "            + ' to learn more about interactive tables.';\n",
              "          element.innerHTML = '';\n",
              "          dataTable['output_type'] = 'display_data';\n",
              "          await google.colab.output.renderOutput(dataTable, element);\n",
              "          const docLink = document.createElement('div');\n",
              "          docLink.innerHTML = docLinkHtml;\n",
              "          element.appendChild(docLink);\n",
              "        }\n",
              "      </script>\n",
              "    </div>\n",
              "  </div>\n",
              "  "
            ]
          },
          "metadata": {},
          "execution_count": 32
        }
      ]
    },
    {
      "cell_type": "markdown",
      "source": [
        "top 10 records in data by sale"
      ],
      "metadata": {
        "id": "c-8eXqq_2y-e"
      }
    },
    {
      "cell_type": "code",
      "source": [
        "data.sort_values(by=['Total Sales'],ascending = False).head(10)"
      ],
      "metadata": {
        "colab": {
          "base_uri": "https://localhost:8080/",
          "height": 363
        },
        "id": "hQ5zGvi-2AO2",
        "outputId": "8c2bf359-73fa-44f3-beab-0063eff2dead"
      },
      "execution_count": null,
      "outputs": [
        {
          "output_type": "execute_result",
          "data": {
            "text/plain": [
              "         Retailer  Retailer ID     Region           State         City  \\\n",
              "1970    West Gear      1128299      South       Louisiana  New Orleans   \n",
              "1394      Walmart      1128299  Southeast         Florida      Orlando   \n",
              "1395      Walmart      1128299  Southeast         Florida      Orlando   \n",
              "1971    West Gear      1128299      South       Louisiana  New Orleans   \n",
              "1977    West Gear      1128299      South       Louisiana  New Orleans   \n",
              "1401      Walmart      1128299  Southeast         Florida      Orlando   \n",
              "62        Walmart      1185732  Northeast        New York     New York   \n",
              "36    Foot Locker      1185732  Northeast        New York     New York   \n",
              "2361  Foot Locker      1185732  Southeast  South Carolina   Charleston   \n",
              "30    Foot Locker      1185732  Northeast        New York     New York   \n",
              "\n",
              "                    Product  Price per Unit  Units Sold  Total Sales  \\\n",
              "1970        Women's Apparel           110.0         750      82500.0   \n",
              "1394        Women's Apparel           110.0         750      82500.0   \n",
              "1395  Men's Street Footwear            90.0         900      81000.0   \n",
              "1971  Men's Street Footwear            90.0         900      81000.0   \n",
              "1977  Men's Street Footwear            95.0         850      80750.0   \n",
              "1401  Men's Street Footwear            95.0         850      80750.0   \n",
              "62    Men's Street Footwear            65.0        1200      78000.0   \n",
              "36    Men's Street Footwear            60.0        1275      76500.0   \n",
              "2361  Men's Street Footwear            70.0        1075      75250.0   \n",
              "30    Men's Street Footwear            60.0        1250      75000.0   \n",
              "\n",
              "      Operating Profit Sales Method  Month  Year  \n",
              "1970             28875       Online      6  2021  \n",
              "1394             37125     In-store      6  2021  \n",
              "1395             24300     In-store      7  2021  \n",
              "1971             32400       Online      7  2021  \n",
              "1977             32300       Online      8  2021  \n",
              "1401             24225     In-store      8  2021  \n",
              "62               39000       Outlet      5  2020  \n",
              "36               38250       Outlet      3  2020  \n",
              "2361             33863       Online     12  2021  \n",
              "30               37500       Outlet      3  2020  "
            ],
            "text/html": [
              "\n",
              "  <div id=\"df-bfe0dd0d-3484-4440-8acb-24163a59a3d7\">\n",
              "    <div class=\"colab-df-container\">\n",
              "      <div>\n",
              "<style scoped>\n",
              "    .dataframe tbody tr th:only-of-type {\n",
              "        vertical-align: middle;\n",
              "    }\n",
              "\n",
              "    .dataframe tbody tr th {\n",
              "        vertical-align: top;\n",
              "    }\n",
              "\n",
              "    .dataframe thead th {\n",
              "        text-align: right;\n",
              "    }\n",
              "</style>\n",
              "<table border=\"1\" class=\"dataframe\">\n",
              "  <thead>\n",
              "    <tr style=\"text-align: right;\">\n",
              "      <th></th>\n",
              "      <th>Retailer</th>\n",
              "      <th>Retailer ID</th>\n",
              "      <th>Region</th>\n",
              "      <th>State</th>\n",
              "      <th>City</th>\n",
              "      <th>Product</th>\n",
              "      <th>Price per Unit</th>\n",
              "      <th>Units Sold</th>\n",
              "      <th>Total Sales</th>\n",
              "      <th>Operating Profit</th>\n",
              "      <th>Sales Method</th>\n",
              "      <th>Month</th>\n",
              "      <th>Year</th>\n",
              "    </tr>\n",
              "  </thead>\n",
              "  <tbody>\n",
              "    <tr>\n",
              "      <th>1970</th>\n",
              "      <td>West Gear</td>\n",
              "      <td>1128299</td>\n",
              "      <td>South</td>\n",
              "      <td>Louisiana</td>\n",
              "      <td>New Orleans</td>\n",
              "      <td>Women's Apparel</td>\n",
              "      <td>110.0</td>\n",
              "      <td>750</td>\n",
              "      <td>82500.0</td>\n",
              "      <td>28875</td>\n",
              "      <td>Online</td>\n",
              "      <td>6</td>\n",
              "      <td>2021</td>\n",
              "    </tr>\n",
              "    <tr>\n",
              "      <th>1394</th>\n",
              "      <td>Walmart</td>\n",
              "      <td>1128299</td>\n",
              "      <td>Southeast</td>\n",
              "      <td>Florida</td>\n",
              "      <td>Orlando</td>\n",
              "      <td>Women's Apparel</td>\n",
              "      <td>110.0</td>\n",
              "      <td>750</td>\n",
              "      <td>82500.0</td>\n",
              "      <td>37125</td>\n",
              "      <td>In-store</td>\n",
              "      <td>6</td>\n",
              "      <td>2021</td>\n",
              "    </tr>\n",
              "    <tr>\n",
              "      <th>1395</th>\n",
              "      <td>Walmart</td>\n",
              "      <td>1128299</td>\n",
              "      <td>Southeast</td>\n",
              "      <td>Florida</td>\n",
              "      <td>Orlando</td>\n",
              "      <td>Men's Street Footwear</td>\n",
              "      <td>90.0</td>\n",
              "      <td>900</td>\n",
              "      <td>81000.0</td>\n",
              "      <td>24300</td>\n",
              "      <td>In-store</td>\n",
              "      <td>7</td>\n",
              "      <td>2021</td>\n",
              "    </tr>\n",
              "    <tr>\n",
              "      <th>1971</th>\n",
              "      <td>West Gear</td>\n",
              "      <td>1128299</td>\n",
              "      <td>South</td>\n",
              "      <td>Louisiana</td>\n",
              "      <td>New Orleans</td>\n",
              "      <td>Men's Street Footwear</td>\n",
              "      <td>90.0</td>\n",
              "      <td>900</td>\n",
              "      <td>81000.0</td>\n",
              "      <td>32400</td>\n",
              "      <td>Online</td>\n",
              "      <td>7</td>\n",
              "      <td>2021</td>\n",
              "    </tr>\n",
              "    <tr>\n",
              "      <th>1977</th>\n",
              "      <td>West Gear</td>\n",
              "      <td>1128299</td>\n",
              "      <td>South</td>\n",
              "      <td>Louisiana</td>\n",
              "      <td>New Orleans</td>\n",
              "      <td>Men's Street Footwear</td>\n",
              "      <td>95.0</td>\n",
              "      <td>850</td>\n",
              "      <td>80750.0</td>\n",
              "      <td>32300</td>\n",
              "      <td>Online</td>\n",
              "      <td>8</td>\n",
              "      <td>2021</td>\n",
              "    </tr>\n",
              "    <tr>\n",
              "      <th>1401</th>\n",
              "      <td>Walmart</td>\n",
              "      <td>1128299</td>\n",
              "      <td>Southeast</td>\n",
              "      <td>Florida</td>\n",
              "      <td>Orlando</td>\n",
              "      <td>Men's Street Footwear</td>\n",
              "      <td>95.0</td>\n",
              "      <td>850</td>\n",
              "      <td>80750.0</td>\n",
              "      <td>24225</td>\n",
              "      <td>In-store</td>\n",
              "      <td>8</td>\n",
              "      <td>2021</td>\n",
              "    </tr>\n",
              "    <tr>\n",
              "      <th>62</th>\n",
              "      <td>Walmart</td>\n",
              "      <td>1185732</td>\n",
              "      <td>Northeast</td>\n",
              "      <td>New York</td>\n",
              "      <td>New York</td>\n",
              "      <td>Men's Street Footwear</td>\n",
              "      <td>65.0</td>\n",
              "      <td>1200</td>\n",
              "      <td>78000.0</td>\n",
              "      <td>39000</td>\n",
              "      <td>Outlet</td>\n",
              "      <td>5</td>\n",
              "      <td>2020</td>\n",
              "    </tr>\n",
              "    <tr>\n",
              "      <th>36</th>\n",
              "      <td>Foot Locker</td>\n",
              "      <td>1185732</td>\n",
              "      <td>Northeast</td>\n",
              "      <td>New York</td>\n",
              "      <td>New York</td>\n",
              "      <td>Men's Street Footwear</td>\n",
              "      <td>60.0</td>\n",
              "      <td>1275</td>\n",
              "      <td>76500.0</td>\n",
              "      <td>38250</td>\n",
              "      <td>Outlet</td>\n",
              "      <td>3</td>\n",
              "      <td>2020</td>\n",
              "    </tr>\n",
              "    <tr>\n",
              "      <th>2361</th>\n",
              "      <td>Foot Locker</td>\n",
              "      <td>1185732</td>\n",
              "      <td>Southeast</td>\n",
              "      <td>South Carolina</td>\n",
              "      <td>Charleston</td>\n",
              "      <td>Men's Street Footwear</td>\n",
              "      <td>70.0</td>\n",
              "      <td>1075</td>\n",
              "      <td>75250.0</td>\n",
              "      <td>33863</td>\n",
              "      <td>Online</td>\n",
              "      <td>12</td>\n",
              "      <td>2021</td>\n",
              "    </tr>\n",
              "    <tr>\n",
              "      <th>30</th>\n",
              "      <td>Foot Locker</td>\n",
              "      <td>1185732</td>\n",
              "      <td>Northeast</td>\n",
              "      <td>New York</td>\n",
              "      <td>New York</td>\n",
              "      <td>Men's Street Footwear</td>\n",
              "      <td>60.0</td>\n",
              "      <td>1250</td>\n",
              "      <td>75000.0</td>\n",
              "      <td>37500</td>\n",
              "      <td>Outlet</td>\n",
              "      <td>3</td>\n",
              "      <td>2020</td>\n",
              "    </tr>\n",
              "  </tbody>\n",
              "</table>\n",
              "</div>\n",
              "      <button class=\"colab-df-convert\" onclick=\"convertToInteractive('df-bfe0dd0d-3484-4440-8acb-24163a59a3d7')\"\n",
              "              title=\"Convert this dataframe to an interactive table.\"\n",
              "              style=\"display:none;\">\n",
              "        \n",
              "  <svg xmlns=\"http://www.w3.org/2000/svg\" height=\"24px\"viewBox=\"0 0 24 24\"\n",
              "       width=\"24px\">\n",
              "    <path d=\"M0 0h24v24H0V0z\" fill=\"none\"/>\n",
              "    <path d=\"M18.56 5.44l.94 2.06.94-2.06 2.06-.94-2.06-.94-.94-2.06-.94 2.06-2.06.94zm-11 1L8.5 8.5l.94-2.06 2.06-.94-2.06-.94L8.5 2.5l-.94 2.06-2.06.94zm10 10l.94 2.06.94-2.06 2.06-.94-2.06-.94-.94-2.06-.94 2.06-2.06.94z\"/><path d=\"M17.41 7.96l-1.37-1.37c-.4-.4-.92-.59-1.43-.59-.52 0-1.04.2-1.43.59L10.3 9.45l-7.72 7.72c-.78.78-.78 2.05 0 2.83L4 21.41c.39.39.9.59 1.41.59.51 0 1.02-.2 1.41-.59l7.78-7.78 2.81-2.81c.8-.78.8-2.07 0-2.86zM5.41 20L4 18.59l7.72-7.72 1.47 1.35L5.41 20z\"/>\n",
              "  </svg>\n",
              "      </button>\n",
              "      \n",
              "  <style>\n",
              "    .colab-df-container {\n",
              "      display:flex;\n",
              "      flex-wrap:wrap;\n",
              "      gap: 12px;\n",
              "    }\n",
              "\n",
              "    .colab-df-convert {\n",
              "      background-color: #E8F0FE;\n",
              "      border: none;\n",
              "      border-radius: 50%;\n",
              "      cursor: pointer;\n",
              "      display: none;\n",
              "      fill: #1967D2;\n",
              "      height: 32px;\n",
              "      padding: 0 0 0 0;\n",
              "      width: 32px;\n",
              "    }\n",
              "\n",
              "    .colab-df-convert:hover {\n",
              "      background-color: #E2EBFA;\n",
              "      box-shadow: 0px 1px 2px rgba(60, 64, 67, 0.3), 0px 1px 3px 1px rgba(60, 64, 67, 0.15);\n",
              "      fill: #174EA6;\n",
              "    }\n",
              "\n",
              "    [theme=dark] .colab-df-convert {\n",
              "      background-color: #3B4455;\n",
              "      fill: #D2E3FC;\n",
              "    }\n",
              "\n",
              "    [theme=dark] .colab-df-convert:hover {\n",
              "      background-color: #434B5C;\n",
              "      box-shadow: 0px 1px 3px 1px rgba(0, 0, 0, 0.15);\n",
              "      filter: drop-shadow(0px 1px 2px rgba(0, 0, 0, 0.3));\n",
              "      fill: #FFFFFF;\n",
              "    }\n",
              "  </style>\n",
              "\n",
              "      <script>\n",
              "        const buttonEl =\n",
              "          document.querySelector('#df-bfe0dd0d-3484-4440-8acb-24163a59a3d7 button.colab-df-convert');\n",
              "        buttonEl.style.display =\n",
              "          google.colab.kernel.accessAllowed ? 'block' : 'none';\n",
              "\n",
              "        async function convertToInteractive(key) {\n",
              "          const element = document.querySelector('#df-bfe0dd0d-3484-4440-8acb-24163a59a3d7');\n",
              "          const dataTable =\n",
              "            await google.colab.kernel.invokeFunction('convertToInteractive',\n",
              "                                                     [key], {});\n",
              "          if (!dataTable) return;\n",
              "\n",
              "          const docLinkHtml = 'Like what you see? Visit the ' +\n",
              "            '<a target=\"_blank\" href=https://colab.research.google.com/notebooks/data_table.ipynb>data table notebook</a>'\n",
              "            + ' to learn more about interactive tables.';\n",
              "          element.innerHTML = '';\n",
              "          dataTable['output_type'] = 'display_data';\n",
              "          await google.colab.output.renderOutput(dataTable, element);\n",
              "          const docLink = document.createElement('div');\n",
              "          docLink.innerHTML = docLinkHtml;\n",
              "          element.appendChild(docLink);\n",
              "        }\n",
              "      </script>\n",
              "    </div>\n",
              "  </div>\n",
              "  "
            ]
          },
          "metadata": {},
          "execution_count": 33
        }
      ]
    },
    {
      "cell_type": "markdown",
      "source": [
        "# Let's visualize data"
      ],
      "metadata": {
        "id": "g8kP_9dN4-3I"
      }
    },
    {
      "cell_type": "code",
      "source": [
        "plt.xticks(rotation=90)\n",
        "plt.ylim(1600,1612)\n",
        "sns.countplot(data = data , x='Product')\n",
        "plt.show()"
      ],
      "metadata": {
        "colab": {
          "base_uri": "https://localhost:8080/",
          "height": 409
        },
        "id": "ujsebPS73kWa",
        "outputId": "85eb4dd3-2b90-424a-a102-62fdc46b8a08"
      },
      "execution_count": null,
      "outputs": [
        {
          "output_type": "display_data",
          "data": {
            "text/plain": [
              "<Figure size 432x288 with 1 Axes>"
            ],
            "image/png": "[encoded data removed]"
          },
          "metadata": {
            "needs_background": "light"
          }
        }
      ]
    },
    {
      "cell_type": "code",
      "source": [
        "data.Product.value_counts()"
      ],
      "metadata": {
        "colab": {
          "base_uri": "https://localhost:8080/"
        },
        "id": "0RNxwORb5GKI",
        "outputId": "bac40506-4911-4ee4-a5c3-0089c012afbe"
      },
      "execution_count": null,
      "outputs": [
        {
          "output_type": "execute_result",
          "data": {
            "text/plain": [
              "Men's Street Footwear        1610\n",
              "Men's Athletic Footwear      1610\n",
              "Women's Street Footwear      1608\n",
              "Women's Apparel              1608\n",
              "Women's Athletic Footwear    1606\n",
              "Men's Apparel                1605\n",
              "Men's aparel                    1\n",
              "Name: Product, dtype: int64"
            ]
          },
          "metadata": {},
          "execution_count": 35
        }
      ]
    },
    {
      "cell_type": "code",
      "source": [
        "data[data.Product=='Men\\'s aparel']"
      ],
      "metadata": {
        "colab": {
          "base_uri": "https://localhost:8080/",
          "height": 81
        },
        "id": "YN5lNF6B7LhQ",
        "outputId": "b5e57376-5898-416e-b286-82a36b30bcc8"
      },
      "execution_count": null,
      "outputs": [
        {
          "output_type": "execute_result",
          "data": {
            "text/plain": [
              "       Retailer  Retailer ID     Region     State      City       Product  \\\n",
              "34  Foot Locker      1185732  Northeast  New York  New York  Men's aparel   \n",
              "\n",
              "    Price per Unit  Units Sold  Total Sales  Operating Profit Sales Method  \\\n",
              "34            60.0         900      54000.0             16200       Outlet   \n",
              "\n",
              "    Month  Year  \n",
              "34      3  2020  "
            ],
            "text/html": [
              "\n",
              "  <div id=\"df-855bdb12-f8c6-47f4-bb95-7678d46b247f\">\n",
              "    <div class=\"colab-df-container\">\n",
              "      <div>\n",
              "<style scoped>\n",
              "    .dataframe tbody tr th:only-of-type {\n",
              "        vertical-align: middle;\n",
              "    }\n",
              "\n",
              "    .dataframe tbody tr th {\n",
              "        vertical-align: top;\n",
              "    }\n",
              "\n",
              "    .dataframe thead th {\n",
              "        text-align: right;\n",
              "    }\n",
              "</style>\n",
              "<table border=\"1\" class=\"dataframe\">\n",
              "  <thead>\n",
              "    <tr style=\"text-align: right;\">\n",
              "      <th></th>\n",
              "      <th>Retailer</th>\n",
              "      <th>Retailer ID</th>\n",
              "      <th>Region</th>\n",
              "      <th>State</th>\n",
              "      <th>City</th>\n",
              "      <th>Product</th>\n",
              "      <th>Price per Unit</th>\n",
              "      <th>Units Sold</th>\n",
              "      <th>Total Sales</th>\n",
              "      <th>Operating Profit</th>\n",
              "      <th>Sales Method</th>\n",
              "      <th>Month</th>\n",
              "      <th>Year</th>\n",
              "    </tr>\n",
              "  </thead>\n",
              "  <tbody>\n",
              "    <tr>\n",
              "      <th>34</th>\n",
              "      <td>Foot Locker</td>\n",
              "      <td>1185732</td>\n",
              "      <td>Northeast</td>\n",
              "      <td>New York</td>\n",
              "      <td>New York</td>\n",
              "      <td>Men's aparel</td>\n",
              "      <td>60.0</td>\n",
              "      <td>900</td>\n",
              "      <td>54000.0</td>\n",
              "      <td>16200</td>\n",
              "      <td>Outlet</td>\n",
              "      <td>3</td>\n",
              "      <td>2020</td>\n",
              "    </tr>\n",
              "  </tbody>\n",
              "</table>\n",
              "</div>\n",
              "      <button class=\"colab-df-convert\" onclick=\"convertToInteractive('df-855bdb12-f8c6-47f4-bb95-7678d46b247f')\"\n",
              "              title=\"Convert this dataframe to an interactive table.\"\n",
              "              style=\"display:none;\">\n",
              "        \n",
              "  <svg xmlns=\"http://www.w3.org/2000/svg\" height=\"24px\"viewBox=\"0 0 24 24\"\n",
              "       width=\"24px\">\n",
              "    <path d=\"M0 0h24v24H0V0z\" fill=\"none\"/>\n",
              "    <path d=\"M18.56 5.44l.94 2.06.94-2.06 2.06-.94-2.06-.94-.94-2.06-.94 2.06-2.06.94zm-11 1L8.5 8.5l.94-2.06 2.06-.94-2.06-.94L8.5 2.5l-.94 2.06-2.06.94zm10 10l.94 2.06.94-2.06 2.06-.94-2.06-.94-.94-2.06-.94 2.06-2.06.94z\"/><path d=\"M17.41 7.96l-1.37-1.37c-.4-.4-.92-.59-1.43-.59-.52 0-1.04.2-1.43.59L10.3 9.45l-7.72 7.72c-.78.78-.78 2.05 0 2.83L4 21.41c.39.39.9.59 1.41.59.51 0 1.02-.2 1.41-.59l7.78-7.78 2.81-2.81c.8-.78.8-2.07 0-2.86zM5.41 20L4 18.59l7.72-7.72 1.47 1.35L5.41 20z\"/>\n",
              "  </svg>\n",
              "      </button>\n",
              "      \n",
              "  <style>\n",
              "    .colab-df-container {\n",
              "      display:flex;\n",
              "      flex-wrap:wrap;\n",
              "      gap: 12px;\n",
              "    }\n",
              "\n",
              "    .colab-df-convert {\n",
              "      background-color: #E8F0FE;\n",
              "      border: none;\n",
              "      border-radius: 50%;\n",
              "      cursor: pointer;\n",
              "      display: none;\n",
              "      fill: #1967D2;\n",
              "      height: 32px;\n",
              "      padding: 0 0 0 0;\n",
              "      width: 32px;\n",
              "    }\n",
              "\n",
              "    .colab-df-convert:hover {\n",
              "      background-color: #E2EBFA;\n",
              "      box-shadow: 0px 1px 2px rgba(60, 64, 67, 0.3), 0px 1px 3px 1px rgba(60, 64, 67, 0.15);\n",
              "      fill: #174EA6;\n",
              "    }\n",
              "\n",
              "    [theme=dark] .colab-df-convert {\n",
              "      background-color: #3B4455;\n",
              "      fill: #D2E3FC;\n",
              "    }\n",
              "\n",
              "    [theme=dark] .colab-df-convert:hover {\n",
              "      background-color: #434B5C;\n",
              "      box-shadow: 0px 1px 3px 1px rgba(0, 0, 0, 0.15);\n",
              "      filter: drop-shadow(0px 1px 2px rgba(0, 0, 0, 0.3));\n",
              "      fill: #FFFFFF;\n",
              "    }\n",
              "  </style>\n",
              "\n",
              "      <script>\n",
              "        const buttonEl =\n",
              "          document.querySelector('#df-855bdb12-f8c6-47f4-bb95-7678d46b247f button.colab-df-convert');\n",
              "        buttonEl.style.display =\n",
              "          google.colab.kernel.accessAllowed ? 'block' : 'none';\n",
              "\n",
              "        async function convertToInteractive(key) {\n",
              "          const element = document.querySelector('#df-855bdb12-f8c6-47f4-bb95-7678d46b247f');\n",
              "          const dataTable =\n",
              "            await google.colab.kernel.invokeFunction('convertToInteractive',\n",
              "                                                     [key], {});\n",
              "          if (!dataTable) return;\n",
              "\n",
              "          const docLinkHtml = 'Like what you see? Visit the ' +\n",
              "            '<a target=\"_blank\" href=https://colab.research.google.com/notebooks/data_table.ipynb>data table notebook</a>'\n",
              "            + ' to learn more about interactive tables.';\n",
              "          element.innerHTML = '';\n",
              "          dataTable['output_type'] = 'display_data';\n",
              "          await google.colab.output.renderOutput(dataTable, element);\n",
              "          const docLink = document.createElement('div');\n",
              "          docLink.innerHTML = docLinkHtml;\n",
              "          element.appendChild(docLink);\n",
              "        }\n",
              "      </script>\n",
              "    </div>\n",
              "  </div>\n",
              "  "
            ]
          },
          "metadata": {},
          "execution_count": 36
        }
      ]
    },
    {
      "cell_type": "markdown",
      "source": [
        "we found misspelling with 1 value count let fix it and add it into men's apparel"
      ],
      "metadata": {
        "id": "j7hNfo0Q73ws"
      }
    },
    {
      "cell_type": "code",
      "source": [
        "data.iloc[34,5]='Men\\'s Apparel'"
      ],
      "metadata": {
        "id": "gyudQQ4D7tL_"
      },
      "execution_count": null,
      "outputs": []
    },
    {
      "cell_type": "markdown",
      "source": [
        "Count For each Product"
      ],
      "metadata": {
        "id": "hlrvjuMz8vrE"
      }
    },
    {
      "cell_type": "code",
      "source": [
        "plt.xticks(rotation=0)\n",
        "plt.xlim(1600,1612)\n",
        "sns.countplot(data = data , y='Product')\n",
        "plt.show()"
      ],
      "metadata": {
        "colab": {
          "base_uri": "https://localhost:8080/",
          "height": 279
        },
        "id": "d8OxD-hl8Kcj",
        "outputId": "9d122802-3849-4b2d-8518-5f153846b133"
      },
      "execution_count": null,
      "outputs": [
        {
          "output_type": "display_data",
          "data": {
            "text/plain": [
              "<Figure size 432x288 with 1 Axes>"
            ],
            "image/png": "[encoded data removed]"
          },
          "metadata": {
            "needs_background": "light"
          }
        }
      ]
    },
    {
      "cell_type": "markdown",
      "source": [
        "Count of sales method"
      ],
      "metadata": {
        "id": "AHfWTZT0YH09"
      }
    },
    {
      "cell_type": "code",
      "source": [
        "sns.countplot(data = data , x = \"Sales Method\")\n",
        "plt.show()"
      ],
      "metadata": {
        "colab": {
          "base_uri": "https://localhost:8080/",
          "height": 279
        },
        "id": "jSyun7McLbkP",
        "outputId": "125cc78f-50a4-4ebd-d48e-8ab6c4515eed"
      },
      "execution_count": null,
      "outputs": [
        {
          "output_type": "display_data",
          "data": {
            "text/plain": [
              "<Figure size 432x288 with 1 Axes>"
            ],
            "image/png": "[encoded data removed]"
          },
          "metadata": {
            "needs_background": "light"
          }
        }
      ]
    },
    {
      "cell_type": "markdown",
      "source": [
        "Count of Sales method by each Region"
      ],
      "metadata": {
        "id": "yiWqO2yOYW0E"
      }
    },
    {
      "cell_type": "code",
      "source": [
        "plt.xticks(rotation=45)\n",
        "sns.countplot(data = data , x = \"Sales Method\" , hue = \"Region\")\n",
        "plt.show()"
      ],
      "metadata": {
        "colab": {
          "base_uri": "https://localhost:8080/",
          "height": 303
        },
        "id": "4JOPevnHYJCZ",
        "outputId": "847a7b2f-3a32-4425-d86d-4986cdbf4ae6"
      },
      "execution_count": null,
      "outputs": [
        {
          "output_type": "display_data",
          "data": {
            "text/plain": [
              "<Figure size 432x288 with 1 Axes>"
            ],
            "image/png": "[encoded data removed]"
          },
          "metadata": {
            "needs_background": "light"
          }
        }
      ]
    },
    {
      "cell_type": "markdown",
      "source": [
        "Sales by each region"
      ],
      "metadata": {
        "id": "JiL0_LU8Ym7z"
      }
    },
    {
      "cell_type": "code",
      "source": [
        "sns.countplot(data= data , x = \"Region\")"
      ],
      "metadata": {
        "colab": {
          "base_uri": "https://localhost:8080/",
          "height": 296
        },
        "id": "nWob88BxYbQH",
        "outputId": "1f31f0b7-e232-4575-c73a-c889005130a4"
      },
      "execution_count": null,
      "outputs": [
        {
          "output_type": "execute_result",
          "data": {
            "text/plain": [
              "<AxesSubplot:xlabel='Region', ylabel='count'>"
            ]
          },
          "metadata": {},
          "execution_count": 41
        },
        {
          "output_type": "display_data",
          "data": {
            "text/plain": [
              "<Figure size 432x288 with 1 Axes>"
            ],
            "image/png": "[encoded data removed]"
          },
          "metadata": {
            "needs_background": "light"
          }
        }
      ]
    },
    {
      "cell_type": "code",
      "source": [
        "plt.xticks(rotation=90)\n",
        "sns.countplot(data = data , x  =\"Product\" , hue = \"Year\")"
      ],
      "metadata": {
        "colab": {
          "base_uri": "https://localhost:8080/",
          "height": 422
        },
        "id": "MmzXu5kgYned",
        "outputId": "42b9c10a-19b6-44c4-f851-5d25066c82dd"
      },
      "execution_count": null,
      "outputs": [
        {
          "output_type": "execute_result",
          "data": {
            "text/plain": [
              "<AxesSubplot:xlabel='Product', ylabel='count'>"
            ]
          },
          "metadata": {},
          "execution_count": 42
        },
        {
          "output_type": "display_data",
          "data": {
            "text/plain": [
              "<Figure size 432x288 with 1 Axes>"
            ],
            "image/png": "[encoded data removed]"
          },
          "metadata": {
            "needs_background": "light"
          }
        }
      ]
    },
    {
      "cell_type": "code",
      "source": [
        "sns.lineplot(x='Year', y='Total Sales', data=data)\n",
        "plt.title('Sales over Time')\n",
        "plt.show()"
      ],
      "metadata": {
        "colab": {
          "base_uri": "https://localhost:8080/",
          "height": 295
        },
        "id": "L1KBJPYrYxUK",
        "outputId": "4e43919f-65d2-4f1a-dc1d-ce5278a97af7"
      },
      "execution_count": null,
      "outputs": [
        {
          "output_type": "display_data",
          "data": {
            "text/plain": [
              "<Figure size 432x288 with 1 Axes>"
            ],
            "image/png": "[encoded data removed]"
          },
          "metadata": {
            "needs_background": "light"
          }
        }
      ]
    },
    {
      "cell_type": "code",
      "source": [
        "sns.lineplot(x='Month', y='Total Sales', data=data)\n",
        "plt.title('Sales over Months')\n",
        "plt.show()"
      ],
      "metadata": {
        "colab": {
          "base_uri": "https://localhost:8080/",
          "height": 295
        },
        "id": "kNgCHHJAZBEK",
        "outputId": "a15ebf00-6910-4c99-83c9-98ceaada76e0"
      },
      "execution_count": null,
      "outputs": [
        {
          "output_type": "display_data",
          "data": {
            "text/plain": [
              "<Figure size 432x288 with 1 Axes>"
            ],
            "image/png": "[encoded data removed]"
          },
          "metadata": {
            "needs_background": "light"
          }
        }
      ]
    },
    {
      "cell_type": "code",
      "source": [
        "sns.lineplot(x='Month', y='Total Sales',hue=\"Year\",  data=data)\n",
        "plt.title('Sales over Months with Years')\n",
        "plt.show()"
      ],
      "metadata": {
        "colab": {
          "base_uri": "https://localhost:8080/",
          "height": 295
        },
        "id": "TChhNMNeZHyM",
        "outputId": "71fe9700-3dce-4c88-8781-2d93029253ac"
      },
      "execution_count": null,
      "outputs": [
        {
          "output_type": "display_data",
          "data": {
            "text/plain": [
              "<Figure size 432x288 with 1 Axes>"
            ],
            "image/png": "[encoded data removed]"
          },
          "metadata": {
            "needs_background": "light"
          }
        }
      ]
    },
    {
      "cell_type": "code",
      "source": [
        "plt.xticks(rotation=45)\n",
        "sns.countplot(data = data , x = \"Retailer\")\n",
        "plt.show()"
      ],
      "metadata": {
        "colab": {
          "base_uri": "https://localhost:8080/",
          "height": 322
        },
        "id": "vMMlXWZ4ZOGS",
        "outputId": "40bed252-aa15-44d4-8c63-b172b8aec3bf"
      },
      "execution_count": null,
      "outputs": [
        {
          "output_type": "display_data",
          "data": {
            "text/plain": [
              "<Figure size 432x288 with 1 Axes>"
            ],
            "image/png": "[encoded data removed]"
          },
          "metadata": {
            "needs_background": "light"
          }
        }
      ]
    },
    {
      "cell_type": "code",
      "source": [
        "plt.xticks(rotation=45)\n",
        "sns.heatmap(data.corr())\n",
        "plt.show()"
      ],
      "metadata": {
        "colab": {
          "base_uri": "https://localhost:8080/",
          "height": 338
        },
        "id": "-TQHrLOPZcPN",
        "outputId": "0b066239-88de-43f2-b79c-4d5eea8027cb"
      },
      "execution_count": null,
      "outputs": [
        {
          "output_type": "display_data",
          "data": {
            "text/plain": [
              "<Figure size 432x288 with 2 Axes>"
            ],
            "image/png": "[encoded data removed]"
          },
          "metadata": {
            "needs_background": "light"
          }
        }
      ]
    },
    {
      "cell_type": "code",
      "source": [
        "monthly_sales = data.groupby(['Month','Year'], as_index=False).sum()\n",
        "monthly_sales = monthly_sales.set_index(\"Month\")\n"
      ],
      "metadata": {
        "id": "GugYHRnDZdSQ"
      },
      "execution_count": null,
      "outputs": []
    },
    {
      "cell_type": "code",
      "source": [
        "monthly_sales"
      ],
      "metadata": {
        "colab": {
          "base_uri": "https://localhost:8080/",
          "height": 833
        },
        "id": "IvhUdpiGwXUz",
        "outputId": "29be4f49-161d-43fd-88d6-8af192474f5a"
      },
      "execution_count": null,
      "outputs": [
        {
          "output_type": "execute_result",
          "data": {
            "text/plain": [
              "       Year  Retailer ID  Price per Unit  Units Sold  Total Sales  \\\n",
              "Month                                                               \n",
              "1      2020    172690830          7078.0       48333    2312746.0   \n",
              "1      2021    831143551         27175.0      179299    7432021.0   \n",
              "2      2020    130349076          6317.0       37846    2140813.0   \n",
              "2      2021    775705737         24251.0      156113    6123040.0   \n",
              "3      2020    150736252          6555.0       46972    2474202.0   \n",
              "3      2021    789507453         23734.0      143988    5220782.0   \n",
              "4      2020    150699180          7568.0       54709    3193081.0   \n",
              "4      2021    837324717         27247.0      161717    6498339.0   \n",
              "5      2020    109083694          5649.0       35705    2164764.0   \n",
              "5      2021    853623510         32705.0      178900    8576956.0   \n",
              "6      2020     67697940          3872.0       16269    1084194.0   \n",
              "6      2021    786127488         32211.0      164745    8718953.0   \n",
              "7      2020    120227143          5887.0       38219    2182388.0   \n",
              "7      2021    787313220         34813.0      180481   10368031.0   \n",
              "8      2020    165367625          5727.0       62307    2641630.0   \n",
              "8      2021    841276080         33200.0      195414    9651596.0   \n",
              "9      2020    114411024          4672.0       46125    2367686.0   \n",
              "9      2021    858263496         30210.0      182425    8037898.0   \n",
              "10     2020    102408516          3667.0       30167    1428569.0   \n",
              "10     2021    857247180         32347.0      152834    7110189.0   \n",
              "11     2020    121917375          4602.0       25152    1168050.0   \n",
              "11     2021    811027860         34647.0      149350    7855390.0   \n",
              "12     2020    107397162          4326.0       20545    1079202.0   \n",
              "12     2021    783756024         37790.0      171246   10336130.0   \n",
              "\n",
              "       Operating Profit  \n",
              "Month                    \n",
              "1                583006  \n",
              "1               1931210  \n",
              "2                520734  \n",
              "2               1618560  \n",
              "3                586207  \n",
              "3               1457799  \n",
              "4                930137  \n",
              "4               1825811  \n",
              "5                587089  \n",
              "5               2407576  \n",
              "6                229274  \n",
              "6               2442220  \n",
              "7                491772  \n",
              "7               2913754  \n",
              "8                733903  \n",
              "8               2711290  \n",
              "9                711980  \n",
              "9               2389027  \n",
              "10               413953  \n",
              "10              2093927  \n",
              "11               278353  \n",
              "11              2197230  \n",
              "12               271228  \n",
              "12              2887826  "
            ],
            "text/html": [
              "\n",
              "  <div id=\"df-7dadb2f5-5525-413f-8eb5-703de6cf340d\">\n",
              "    <div class=\"colab-df-container\">\n",
              "      <div>\n",
              "<style scoped>\n",
              "    .dataframe tbody tr th:only-of-type {\n",
              "        vertical-align: middle;\n",
              "    }\n",
              "\n",
              "    .dataframe tbody tr th {\n",
              "        vertical-align: top;\n",
              "    }\n",
              "\n",
              "    .dataframe thead th {\n",
              "        text-align: right;\n",
              "    }\n",
              "</style>\n",
              "<table border=\"1\" class=\"dataframe\">\n",
              "  <thead>\n",
              "    <tr style=\"text-align: right;\">\n",
              "      <th></th>\n",
              "      <th>Year</th>\n",
              "      <th>Retailer ID</th>\n",
              "      <th>Price per Unit</th>\n",
              "      <th>Units Sold</th>\n",
              "      <th>Total Sales</th>\n",
              "      <th>Operating Profit</th>\n",
              "    </tr>\n",
              "    <tr>\n",
              "      <th>Month</th>\n",
              "      <th></th>\n",
              "      <th></th>\n",
              "      <th></th>\n",
              "      <th></th>\n",
              "      <th></th>\n",
              "      <th></th>\n",
              "    </tr>\n",
              "  </thead>\n",
              "  <tbody>\n",
              "    <tr>\n",
              "      <th>1</th>\n",
              "      <td>2020</td>\n",
              "      <td>172690830</td>\n",
              "      <td>7078.0</td>\n",
              "      <td>48333</td>\n",
              "      <td>2312746.0</td>\n",
              "      <td>583006</td>\n",
              "    </tr>\n",
              "    <tr>\n",
              "      <th>1</th>\n",
              "      <td>2021</td>\n",
              "      <td>831143551</td>\n",
              "      <td>27175.0</td>\n",
              "      <td>179299</td>\n",
              "      <td>7432021.0</td>\n",
              "      <td>1931210</td>\n",
              "    </tr>\n",
              "    <tr>\n",
              "      <th>2</th>\n",
              "      <td>2020</td>\n",
              "      <td>130349076</td>\n",
              "      <td>6317.0</td>\n",
              "      <td>37846</td>\n",
              "      <td>2140813.0</td>\n",
              "      <td>520734</td>\n",
              "    </tr>\n",
              "    <tr>\n",
              "      <th>2</th>\n",
              "      <td>2021</td>\n",
              "      <td>775705737</td>\n",
              "      <td>24251.0</td>\n",
              "      <td>156113</td>\n",
              "      <td>6123040.0</td>\n",
              "      <td>1618560</td>\n",
              "    </tr>\n",
              "    <tr>\n",
              "      <th>3</th>\n",
              "      <td>2020</td>\n",
              "      <td>150736252</td>\n",
              "      <td>6555.0</td>\n",
              "      <td>46972</td>\n",
              "      <td>2474202.0</td>\n",
              "      <td>586207</td>\n",
              "    </tr>\n",
              "    <tr>\n",
              "      <th>3</th>\n",
              "      <td>2021</td>\n",
              "      <td>789507453</td>\n",
              "      <td>23734.0</td>\n",
              "      <td>143988</td>\n",
              "      <td>5220782.0</td>\n",
              "      <td>1457799</td>\n",
              "    </tr>\n",
              "    <tr>\n",
              "      <th>4</th>\n",
              "      <td>2020</td>\n",
              "      <td>150699180</td>\n",
              "      <td>7568.0</td>\n",
              "      <td>54709</td>\n",
              "      <td>3193081.0</td>\n",
              "      <td>930137</td>\n",
              "    </tr>\n",
              "    <tr>\n",
              "      <th>4</th>\n",
              "      <td>2021</td>\n",
              "      <td>837324717</td>\n",
              "      <td>27247.0</td>\n",
              "      <td>161717</td>\n",
              "      <td>6498339.0</td>\n",
              "      <td>1825811</td>\n",
              "    </tr>\n",
              "    <tr>\n",
              "      <th>5</th>\n",
              "      <td>2020</td>\n",
              "      <td>109083694</td>\n",
              "      <td>5649.0</td>\n",
              "      <td>35705</td>\n",
              "      <td>2164764.0</td>\n",
              "      <td>587089</td>\n",
              "    </tr>\n",
              "    <tr>\n",
              "      <th>5</th>\n",
              "      <td>2021</td>\n",
              "      <td>853623510</td>\n",
              "      <td>32705.0</td>\n",
              "      <td>178900</td>\n",
              "      <td>8576956.0</td>\n",
              "      <td>2407576</td>\n",
              "    </tr>\n",
              "    <tr>\n",
              "      <th>6</th>\n",
              "      <td>2020</td>\n",
              "      <td>67697940</td>\n",
              "      <td>3872.0</td>\n",
              "      <td>16269</td>\n",
              "      <td>1084194.0</td>\n",
              "      <td>229274</td>\n",
              "    </tr>\n",
              "    <tr>\n",
              "      <th>6</th>\n",
              "      <td>2021</td>\n",
              "      <td>786127488</td>\n",
              "      <td>32211.0</td>\n",
              "      <td>164745</td>\n",
              "      <td>8718953.0</td>\n",
              "      <td>2442220</td>\n",
              "    </tr>\n",
              "    <tr>\n",
              "      <th>7</th>\n",
              "      <td>2020</td>\n",
              "      <td>120227143</td>\n",
              "      <td>5887.0</td>\n",
              "      <td>38219</td>\n",
              "      <td>2182388.0</td>\n",
              "      <td>491772</td>\n",
              "    </tr>\n",
              "    <tr>\n",
              "      <th>7</th>\n",
              "      <td>2021</td>\n",
              "      <td>787313220</td>\n",
              "      <td>34813.0</td>\n",
              "      <td>180481</td>\n",
              "      <td>10368031.0</td>\n",
              "      <td>2913754</td>\n",
              "    </tr>\n",
              "    <tr>\n",
              "      <th>8</th>\n",
              "      <td>2020</td>\n",
              "      <td>165367625</td>\n",
              "      <td>5727.0</td>\n",
              "      <td>62307</td>\n",
              "      <td>2641630.0</td>\n",
              "      <td>733903</td>\n",
              "    </tr>\n",
              "    <tr>\n",
              "      <th>8</th>\n",
              "      <td>2021</td>\n",
              "      <td>841276080</td>\n",
              "      <td>33200.0</td>\n",
              "      <td>195414</td>\n",
              "      <td>9651596.0</td>\n",
              "      <td>2711290</td>\n",
              "    </tr>\n",
              "    <tr>\n",
              "      <th>9</th>\n",
              "      <td>2020</td>\n",
              "      <td>114411024</td>\n",
              "      <td>4672.0</td>\n",
              "      <td>46125</td>\n",
              "      <td>2367686.0</td>\n",
              "      <td>711980</td>\n",
              "    </tr>\n",
              "    <tr>\n",
              "      <th>9</th>\n",
              "      <td>2021</td>\n",
              "      <td>858263496</td>\n",
              "      <td>30210.0</td>\n",
              "      <td>182425</td>\n",
              "      <td>8037898.0</td>\n",
              "      <td>2389027</td>\n",
              "    </tr>\n",
              "    <tr>\n",
              "      <th>10</th>\n",
              "      <td>2020</td>\n",
              "      <td>102408516</td>\n",
              "      <td>3667.0</td>\n",
              "      <td>30167</td>\n",
              "      <td>1428569.0</td>\n",
              "      <td>413953</td>\n",
              "    </tr>\n",
              "    <tr>\n",
              "      <th>10</th>\n",
              "      <td>2021</td>\n",
              "      <td>857247180</td>\n",
              "      <td>32347.0</td>\n",
              "      <td>152834</td>\n",
              "      <td>7110189.0</td>\n",
              "      <td>2093927</td>\n",
              "    </tr>\n",
              "    <tr>\n",
              "      <th>11</th>\n",
              "      <td>2020</td>\n",
              "      <td>121917375</td>\n",
              "      <td>4602.0</td>\n",
              "      <td>25152</td>\n",
              "      <td>1168050.0</td>\n",
              "      <td>278353</td>\n",
              "    </tr>\n",
              "    <tr>\n",
              "      <th>11</th>\n",
              "      <td>2021</td>\n",
              "      <td>811027860</td>\n",
              "      <td>34647.0</td>\n",
              "      <td>149350</td>\n",
              "      <td>7855390.0</td>\n",
              "      <td>2197230</td>\n",
              "    </tr>\n",
              "    <tr>\n",
              "      <th>12</th>\n",
              "      <td>2020</td>\n",
              "      <td>107397162</td>\n",
              "      <td>4326.0</td>\n",
              "      <td>20545</td>\n",
              "      <td>1079202.0</td>\n",
              "      <td>271228</td>\n",
              "    </tr>\n",
              "    <tr>\n",
              "      <th>12</th>\n",
              "      <td>2021</td>\n",
              "      <td>783756024</td>\n",
              "      <td>37790.0</td>\n",
              "      <td>171246</td>\n",
              "      <td>10336130.0</td>\n",
              "      <td>2887826</td>\n",
              "    </tr>\n",
              "  </tbody>\n",
              "</table>\n",
              "</div>\n",
              "      <button class=\"colab-df-convert\" onclick=\"convertToInteractive('df-7dadb2f5-5525-413f-8eb5-703de6cf340d')\"\n",
              "              title=\"Convert this dataframe to an interactive table.\"\n",
              "              style=\"display:none;\">\n",
              "        \n",
              "  <svg xmlns=\"http://www.w3.org/2000/svg\" height=\"24px\"viewBox=\"0 0 24 24\"\n",
              "       width=\"24px\">\n",
              "    <path d=\"M0 0h24v24H0V0z\" fill=\"none\"/>\n",
              "    <path d=\"M18.56 5.44l.94 2.06.94-2.06 2.06-.94-2.06-.94-.94-2.06-.94 2.06-2.06.94zm-11 1L8.5 8.5l.94-2.06 2.06-.94-2.06-.94L8.5 2.5l-.94 2.06-2.06.94zm10 10l.94 2.06.94-2.06 2.06-.94-2.06-.94-.94-2.06-.94 2.06-2.06.94z\"/><path d=\"M17.41 7.96l-1.37-1.37c-.4-.4-.92-.59-1.43-.59-.52 0-1.04.2-1.43.59L10.3 9.45l-7.72 7.72c-.78.78-.78 2.05 0 2.83L4 21.41c.39.39.9.59 1.41.59.51 0 1.02-.2 1.41-.59l7.78-7.78 2.81-2.81c.8-.78.8-2.07 0-2.86zM5.41 20L4 18.59l7.72-7.72 1.47 1.35L5.41 20z\"/>\n",
              "  </svg>\n",
              "      </button>\n",
              "      \n",
              "  <style>\n",
              "    .colab-df-container {\n",
              "      display:flex;\n",
              "      flex-wrap:wrap;\n",
              "      gap: 12px;\n",
              "    }\n",
              "\n",
              "    .colab-df-convert {\n",
              "      background-color: #E8F0FE;\n",
              "      border: none;\n",
              "      border-radius: 50%;\n",
              "      cursor: pointer;\n",
              "      display: none;\n",
              "      fill: #1967D2;\n",
              "      height: 32px;\n",
              "      padding: 0 0 0 0;\n",
              "      width: 32px;\n",
              "    }\n",
              "\n",
              "    .colab-df-convert:hover {\n",
              "      background-color: #E2EBFA;\n",
              "      box-shadow: 0px 1px 2px rgba(60, 64, 67, 0.3), 0px 1px 3px 1px rgba(60, 64, 67, 0.15);\n",
              "      fill: #174EA6;\n",
              "    }\n",
              "\n",
              "    [theme=dark] .colab-df-convert {\n",
              "      background-color: #3B4455;\n",
              "      fill: #D2E3FC;\n",
              "    }\n",
              "\n",
              "    [theme=dark] .colab-df-convert:hover {\n",
              "      background-color: #434B5C;\n",
              "      box-shadow: 0px 1px 3px 1px rgba(0, 0, 0, 0.15);\n",
              "      filter: drop-shadow(0px 1px 2px rgba(0, 0, 0, 0.3));\n",
              "      fill: #FFFFFF;\n",
              "    }\n",
              "  </style>\n",
              "\n",
              "      <script>\n",
              "        const buttonEl =\n",
              "          document.querySelector('#df-7dadb2f5-5525-413f-8eb5-703de6cf340d button.colab-df-convert');\n",
              "        buttonEl.style.display =\n",
              "          google.colab.kernel.accessAllowed ? 'block' : 'none';\n",
              "\n",
              "        async function convertToInteractive(key) {\n",
              "          const element = document.querySelector('#df-7dadb2f5-5525-413f-8eb5-703de6cf340d');\n",
              "          const dataTable =\n",
              "            await google.colab.kernel.invokeFunction('convertToInteractive',\n",
              "                                                     [key], {});\n",
              "          if (!dataTable) return;\n",
              "\n",
              "          const docLinkHtml = 'Like what you see? Visit the ' +\n",
              "            '<a target=\"_blank\" href=https://colab.research.google.com/notebooks/data_table.ipynb>data table notebook</a>'\n",
              "            + ' to learn more about interactive tables.';\n",
              "          element.innerHTML = '';\n",
              "          dataTable['output_type'] = 'display_data';\n",
              "          await google.colab.output.renderOutput(dataTable, element);\n",
              "          const docLink = document.createElement('div');\n",
              "          docLink.innerHTML = docLinkHtml;\n",
              "          element.appendChild(docLink);\n",
              "        }\n",
              "      </script>\n",
              "    </div>\n",
              "  </div>\n",
              "  "
            ]
          },
          "metadata": {},
          "execution_count": 104
        }
      ]
    },
    {
      "cell_type": "code",
      "source": [
        "a=monthly_sales[monthly_sales.Year==2020]\n",
        "b=monthly_sales[monthly_sales.Year==2021]"
      ],
      "metadata": {
        "id": "MOS4hek1wS2K"
      },
      "execution_count": null,
      "outputs": []
    },
    {
      "cell_type": "code",
      "source": [
        "plt.figure(figsize=(25,8))\n",
        "sns.lineplot(x='Month', y='Total Sales', data=a,label ='2020')\n",
        "sns.lineplot(x='Month', y='Total Sales', data=b,label ='2021')\n",
        "plt.legend()\n",
        "plt.show()"
      ],
      "metadata": {
        "colab": {
          "base_uri": "https://localhost:8080/",
          "height": 496
        },
        "id": "EDKcAGHYZfBr",
        "outputId": "c3b61e40-519c-42cd-95c7-9e6b0df4fccc"
      },
      "execution_count": null,
      "outputs": [
        {
          "output_type": "display_data",
          "data": {
            "text/plain": [
              "<Figure size 1800x576 with 1 Axes>"
            ],
            "image/png": "[encoded data removed]"
          },
          "metadata": {
            "needs_background": "light"
          }
        }
      ]
    },
    {
      "cell_type": "code",
      "source": [],
      "metadata": {
        "id": "wmaIdQBzubkD"
      },
      "execution_count": null,
      "outputs": []
    }
  ],
  "metadata": {
    "colab": {
      "provenance": [],
      "authorship_tag": "ABX9TyNQQ9rPOItuToOYfUn038Dv",
      "include_colab_link": true
    },
    "kernelspec": {
      "display_name": "Python 3",
      "name": "python3"
    },
    "language_info": {
      "name": "python"
    }
  },
  "nbformat": 4,
  "nbformat_minor": 0
}